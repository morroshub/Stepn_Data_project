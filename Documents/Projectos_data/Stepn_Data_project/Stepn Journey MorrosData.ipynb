{
 "cells": [
  {
   "cell_type": "markdown",
   "id": "69eae91b",
   "metadata": {},
   "source": [
    "## Importacion de librerias / library charges "
   ]
  },
  {
   "cell_type": "code",
   "execution_count": 2,
   "id": "7c090e74",
   "metadata": {},
   "outputs": [],
   "source": [
    "# En la documentacion de este notebook podra obtener el detalle de cada columna y procesos hechos aqui.\n",
    "# Document of this notebook can help you to understand all columns and process do here  "
   ]
  },
  {
   "cell_type": "code",
   "execution_count": 94,
   "id": "905bda8e",
   "metadata": {},
   "outputs": [],
   "source": [
    "import pandas as pd\n",
    "import numpy as np\n",
    "import matplotlib.pyplot as plt\n",
    "import seaborn as sns\n",
    "import sqlite3\n",
    "import pymongo\n",
    "import random\n",
    "import json\n",
    "import os\n",
    "import statistics\n",
    "import math\n",
    "import gspread\n",
    "import gspread"
   ]
  },
  {
   "cell_type": "code",
   "execution_count": 16,
   "id": "6d1079fc",
   "metadata": {},
   "outputs": [],
   "source": [
    "ruta_credenciales = os.path.expanduser('~/Documents/Projectos_data/Stepn_Data_project/credenciales.json')\n",
    "gc = gspread.service_account(filename=ruta_credenciales)\n"
   ]
  },
  {
   "cell_type": "markdown",
   "id": "f56616d6",
   "metadata": {},
   "source": [
    "#### Carga de de archivo .CSV / Load CSV file "
   ]
  },
  {
   "cell_type": "code",
   "execution_count": 17,
   "id": "edadc161",
   "metadata": {},
   "outputs": [],
   "source": [
    "# data = pd.read_csv('CorridasStepn-SolanaRealm.csv') #CSV LOCAL "
   ]
  },
  {
   "cell_type": "code",
   "execution_count": 18,
   "id": "cf8f4189",
   "metadata": {},
   "outputs": [],
   "source": [
    "# En el caso de que el archivo csv quede desactualizado, podemos optar por una peticion directa al link del GDrive"
   ]
  },
  {
   "cell_type": "code",
   "execution_count": 21,
   "id": "76e985e7",
   "metadata": {},
   "outputs": [],
   "source": [
    "# Abre la hoja de cálculo por URL\n",
    "sh = gc.open_by_url('https://docs.google.com/spreadsheets/d/11qE8JHSpsLOLWvAR36p7q-kwv-TbI2VC8fCFpR91aV8/edit?usp=sharing')\n",
    "\n",
    "# O abrela por título\n",
    "# sh = gc.open('Corridas Stepn')\n"
   ]
  },
  {
   "cell_type": "code",
   "execution_count": 22,
   "id": "8ea2d77a",
   "metadata": {},
   "outputs": [
    {
     "name": "stdout",
     "output_type": "stream",
     "text": [
      "<class 'pandas.core.frame.DataFrame'>\n",
      "RangeIndex: 504 entries, 0 to 503\n",
      "Data columns (total 44 columns):\n",
      " #   Column                    Non-Null Count  Dtype  \n",
      "---  ------                    --------------  -----  \n",
      " 0   Energias                  446 non-null    float64\n",
      " 1   ZAPA                      446 non-null    object \n",
      " 2   Gst ganado                331 non-null    float64\n",
      " 3   Arreglo Gst               443 non-null    float64\n",
      " 4   Coste de caja gst         153 non-null    float64\n",
      " 5   GMT                       121 non-null    float64\n",
      " 6   Total GST                 401 non-null    float64\n",
      " 7   Caja mb                   445 non-null    object \n",
      " 8   HP%                       425 non-null    float64\n",
      " 9   Obtencion caja            155 non-null    object \n",
      " 10  Upgrades                  366 non-null    float64\n",
      " 11  TOTAL FECHA GST           395 non-null    float64\n",
      " 12  TOTAL USDT FECHA          148 non-null    float64\n",
      " 13  Fecha                     446 non-null    object \n",
      " 14  Aclaraciones de Upgrades  478 non-null    object \n",
      " 15  Success LV1               197 non-null    object \n",
      " 16  Success LV2               128 non-null    object \n",
      " 17  Success LV3               153 non-null    object \n",
      " 18  Success LV4               5 non-null      object \n",
      " 19  JUGADOR                   504 non-null    object \n",
      " 20  Unnamed: 20               7 non-null      object \n",
      " 21  Gem Stock                 25 non-null     object \n",
      " 22  LV1                       58 non-null     object \n",
      " 23  LV2                       65 non-null     object \n",
      " 24  LV3                       54 non-null     object \n",
      " 25  LV4                       50 non-null     object \n",
      " 26  LV5                       49 non-null     object \n",
      " 27  LV6                       29 non-null     object \n",
      " 28  LV7                       49 non-null     object \n",
      " 29  LV8                       34 non-null     object \n",
      " 30  LV9                       27 non-null     object \n",
      " 31  Unnamed: 31               29 non-null     object \n",
      " 32  Unnamed: 32               21 non-null     object \n",
      " 33  Unnamed: 33               43 non-null     object \n",
      " 34  MBS                       49 non-null     object \n",
      " 35  Ganancia Bruta            67 non-null     object \n",
      " 36  Gst cost                  54 non-null     object \n",
      " 37  Gst usd                   69 non-null     object \n",
      " 38  Ganancia Total            63 non-null     object \n",
      " 39  Mes                       42 non-null     object \n",
      " 40  Unnamed: 40               24 non-null     object \n",
      " 41  GTALLT                    12 non-null     object \n",
      " 42  Unnamed: 42               6 non-null      object \n",
      " 43  Unnamed: 43               15 non-null     object \n",
      "dtypes: float64(10), object(34)\n",
      "memory usage: 173.4+ KB\n"
     ]
    }
   ],
   "source": [
    "data.info()"
   ]
  },
  {
   "cell_type": "code",
   "execution_count": 23,
   "id": "28b4fa60",
   "metadata": {},
   "outputs": [
    {
     "name": "stdout",
     "output_type": "stream",
     "text": [
      "<class 'pandas.core.series.Series'>\n",
      "Index: 305 entries, 11/5/23 to 11/3/23\n",
      "Series name: Fecha\n",
      "Non-Null Count  Dtype\n",
      "--------------  -----\n",
      "305 non-null    int64\n",
      "dtypes: int64(1)\n",
      "memory usage: 4.8+ KB\n"
     ]
    }
   ],
   "source": [
    "# Dias de movimiento\n",
    "# Days of running\n",
    "\n",
    "daysactive = data['Fecha'].value_counts()\n",
    "daysactive.info()\n"
   ]
  },
  {
   "cell_type": "code",
   "execution_count": 24,
   "id": "5ec7d35c",
   "metadata": {},
   "outputs": [],
   "source": [
    "# Realizamos una limpieza para quedarnos con las columnas competentes para este notebook \n",
    "# Delete some colummns of csv for this notebook project "
   ]
  },
  {
   "cell_type": "code",
   "execution_count": 25,
   "id": "2dd6ab62",
   "metadata": {},
   "outputs": [],
   "source": [
    "data = data.drop(data.columns[20:], axis=1)"
   ]
  },
  {
   "cell_type": "code",
   "execution_count": 44,
   "id": "1af35a13",
   "metadata": {},
   "outputs": [
    {
     "name": "stdout",
     "output_type": "stream",
     "text": [
      "<class 'pandas.core.frame.DataFrame'>\n",
      "RangeIndex: 504 entries, 0 to 503\n",
      "Data columns (total 20 columns):\n",
      " #   Column                    Non-Null Count  Dtype  \n",
      "---  ------                    --------------  -----  \n",
      " 0   Energias                  446 non-null    float64\n",
      " 1   ZAPA                      446 non-null    object \n",
      " 2   Gst ganado                504 non-null    float64\n",
      " 3   Arreglo Gst               504 non-null    float64\n",
      " 4   Coste de caja gst         504 non-null    float64\n",
      " 5   GMT                       504 non-null    float64\n",
      " 6   Total GST                 401 non-null    float64\n",
      " 7   Caja mb                   445 non-null    object \n",
      " 8   HP%                       425 non-null    float64\n",
      " 9   Obtencion caja            155 non-null    object \n",
      " 10  Upgrades                  504 non-null    float64\n",
      " 11  TOTAL FECHA GST           395 non-null    float64\n",
      " 12  TOTAL USDT FECHA          504 non-null    float64\n",
      " 13  Fecha                     446 non-null    object \n",
      " 14  Aclaraciones de Upgrades  478 non-null    object \n",
      " 15  Success LV1               197 non-null    object \n",
      " 16  Success LV2               128 non-null    object \n",
      " 17  Success LV3               153 non-null    object \n",
      " 18  Success LV4               5 non-null      object \n",
      " 19  JUGADOR                   504 non-null    object \n",
      "dtypes: float64(10), object(10)\n",
      "memory usage: 78.9+ KB\n"
     ]
    }
   ],
   "source": [
    "data.info()"
   ]
  },
  {
   "cell_type": "code",
   "execution_count": 27,
   "id": "f172a9b3",
   "metadata": {},
   "outputs": [
    {
     "name": "stdout",
     "output_type": "stream",
     "text": [
      "El total de energias usadas es de 5432.1\n"
     ]
    }
   ],
   "source": [
    "# Cuantas energias se usaron?\n",
    "# How many energy used?\n",
    "\n",
    "sum_total_energy = data['Energias'].sum()\n",
    "\n",
    "print(f'El total de energias usadas es de {sum_total_energy}')\n",
    "\n"
   ]
  },
  {
   "cell_type": "markdown",
   "id": "8b4afad3",
   "metadata": {},
   "source": [
    "#### Cuantos zapatillas tiene activas esta cuenta?\n",
    "#### How many sneakers have active this account?"
   ]
  },
  {
   "cell_type": "code",
   "execution_count": 47,
   "id": "7dca6eb0",
   "metadata": {},
   "outputs": [
    {
     "data": {
      "text/plain": [
       "array(['WL-925 ', 'WEG-579', 'WL-925', 'WEGMT-889', 'UNC-WL-432',\n",
       "       'UNC-WEG-168', 'RAREMHTE-020', 'RARE-WL-1041', 'UNCO-WG-2524',\n",
       "       'C-T-946', 'UNCJG-ER-269', 'TEO -638', nan], dtype=object)"
      ]
     },
     "execution_count": 47,
     "metadata": {},
     "output_type": "execute_result"
    }
   ],
   "source": [
    "sneakers = data['ZAPA'].unique()\n",
    "sneakers"
   ]
  },
  {
   "cell_type": "code",
   "execution_count": 57,
   "id": "2b29b8a7",
   "metadata": {},
   "outputs": [
    {
     "data": {
      "text/html": [
       "<div>\n",
       "<style scoped>\n",
       "    .dataframe tbody tr th:only-of-type {\n",
       "        vertical-align: middle;\n",
       "    }\n",
       "\n",
       "    .dataframe tbody tr th {\n",
       "        vertical-align: top;\n",
       "    }\n",
       "\n",
       "    .dataframe thead th {\n",
       "        text-align: right;\n",
       "    }\n",
       "</style>\n",
       "<table border=\"1\" class=\"dataframe\">\n",
       "  <thead>\n",
       "    <tr style=\"text-align: right;\">\n",
       "      <th></th>\n",
       "      <th>ZAPA</th>\n",
       "      <th>Energias</th>\n",
       "    </tr>\n",
       "  </thead>\n",
       "  <tbody>\n",
       "    <tr>\n",
       "      <th>1</th>\n",
       "      <td>RARE-WL-1041</td>\n",
       "      <td>1045.9</td>\n",
       "    </tr>\n",
       "    <tr>\n",
       "      <th>2</th>\n",
       "      <td>RAREMHTE-020</td>\n",
       "      <td>908.0</td>\n",
       "    </tr>\n",
       "    <tr>\n",
       "      <th>5</th>\n",
       "      <td>UNC-WL-432</td>\n",
       "      <td>869.5</td>\n",
       "    </tr>\n",
       "    <tr>\n",
       "      <th>4</th>\n",
       "      <td>UNC-WEG-168</td>\n",
       "      <td>731.4</td>\n",
       "    </tr>\n",
       "    <tr>\n",
       "      <th>0</th>\n",
       "      <td>C-T-946</td>\n",
       "      <td>716.6</td>\n",
       "    </tr>\n",
       "    <tr>\n",
       "      <th>8</th>\n",
       "      <td>WEG-579</td>\n",
       "      <td>377.0</td>\n",
       "    </tr>\n",
       "    <tr>\n",
       "      <th>3</th>\n",
       "      <td>TEO -638</td>\n",
       "      <td>284.0</td>\n",
       "    </tr>\n",
       "    <tr>\n",
       "      <th>10</th>\n",
       "      <td>WL-925</td>\n",
       "      <td>181.2</td>\n",
       "    </tr>\n",
       "    <tr>\n",
       "      <th>9</th>\n",
       "      <td>WEGMT-889</td>\n",
       "      <td>162.7</td>\n",
       "    </tr>\n",
       "    <tr>\n",
       "      <th>11</th>\n",
       "      <td>WL-925</td>\n",
       "      <td>77.2</td>\n",
       "    </tr>\n",
       "    <tr>\n",
       "      <th>6</th>\n",
       "      <td>UNCJG-ER-269</td>\n",
       "      <td>45.6</td>\n",
       "    </tr>\n",
       "    <tr>\n",
       "      <th>7</th>\n",
       "      <td>UNCO-WG-2524</td>\n",
       "      <td>33.0</td>\n",
       "    </tr>\n",
       "  </tbody>\n",
       "</table>\n",
       "</div>"
      ],
      "text/plain": [
       "            ZAPA  Energias\n",
       "1   RARE-WL-1041    1045.9\n",
       "2   RAREMHTE-020     908.0\n",
       "5     UNC-WL-432     869.5\n",
       "4    UNC-WEG-168     731.4\n",
       "0        C-T-946     716.6\n",
       "8        WEG-579     377.0\n",
       "3       TEO -638     284.0\n",
       "10        WL-925     181.2\n",
       "9      WEGMT-889     162.7\n",
       "11       WL-925       77.2\n",
       "6   UNCJG-ER-269      45.6\n",
       "7   UNCO-WG-2524      33.0"
      ]
     },
     "execution_count": 57,
     "metadata": {},
     "output_type": "execute_result"
    }
   ],
   "source": [
    "# Uso de energia por cada zapatilla. \n",
    "# Total of energy with wich sneaker nft. \n",
    "\n",
    "total_exs = data.groupby('ZAPA')['Energias'].sum().reset_index()\n",
    "\n",
    "# Ordenando de forma descendente.\n",
    "# Order by desc\n",
    "\n",
    "total_exs = total_exs.sort_values(by='Energias', ascending=False)\n",
    "total_exs"
   ]
  },
  {
   "cell_type": "code",
   "execution_count": 69,
   "id": "4e8f97a8",
   "metadata": {},
   "outputs": [
    {
     "data": {
      "image/png": "[encoded data removed]",
      "text/plain": [
       "<Figure size 1000x400 with 1 Axes>"
      ]
     },
     "metadata": {},
     "output_type": "display_data"
    }
   ],
   "source": [
    "# Crear el gráfico de barras\n",
    "# Make graph \n",
    "\n",
    "plt.figure(figsize=(10, 4))\n",
    "plt.bar(total_exs['ZAPA'], total_exs['Energias'])\n",
    "plt.xlabel('ZAPA')\n",
    "plt.ylabel('Energías')\n",
    "plt.title('Energías Usadas por Zapatilla')\n",
    "plt.xticks(rotation=45)\n",
    "plt.tight_layout()\n",
    "plt.show()\n"
   ]
  },
  {
   "cell_type": "markdown",
   "id": "36e254cd",
   "metadata": {},
   "source": [
    "#### Obtencion de cajas.\n",
    "#### Collected MYSTERY BOXES."
   ]
  },
  {
   "cell_type": "code",
   "execution_count": 92,
   "id": "303b603d",
   "metadata": {},
   "outputs": [
    {
     "name": "stdout",
     "output_type": "stream",
     "text": [
      "El total de cajas obtenidas es de : 158\n",
      "El total de F es de : 287\n",
      "Se obtuvieron las siguientes cajas : {'6': 54, '5': 49, '4': 28, '8': 9, '3': 9, '7': 8, '9': 1}\n"
     ]
    }
   ],
   "source": [
    "# Filtrar los valores válidos\n",
    "valores_validos = ['3', '4', '5', '6', '7', '8', '9', 'F']\n",
    "filt_data = data[data['Caja mb'].isin(valores_validos)]\n",
    "\n",
    "# Calcular la cantidad de números y letras F\n",
    "total_numeros = filt_data[filt_data['Caja mb'].str.isnumeric()]['Caja mb'].count()\n",
    "total_F = filt_data[filt_data['Caja mb'] == 'F']['Caja mb'].count()\n",
    "\n",
    "# Calcular la frecuencia de cada número\n",
    "frecuencia_numeros = filt_data[filt_data['Caja mb'].str.isnumeric()]['Caja mb'].value_counts().to_dict()\n",
    "\n",
    "\n",
    "print(f'El total de cajas obtenidas es de : {total_numeros}')\n",
    "print(f'El total de F es de : {total_F}')\n",
    "print(f'Se obtuvieron las siguientes cajas : {frecuencia_numeros}')"
   ]
  },
  {
   "cell_type": "code",
   "execution_count": 89,
   "id": "1325392e",
   "metadata": {},
   "outputs": [
    {
     "name": "stdout",
     "output_type": "stream",
     "text": [
      "Total es 1392.08\n",
      "Total is 1392.08\n"
     ]
    }
   ],
   "source": [
    "# Vamos a remplazar todos los valores 'null' en 0, dado el caracter especifico de esta columna.\n",
    "# Replace all 'null' data for 0 for context in this column.\n",
    "\n",
    "data['TOTAL USDT FECHA'] = data['TOTAL USDT FECHA'].fillna(0)\n",
    "\n",
    "# Sumamos los valores para saber cual es el total de USDT generados en esta cuenta.\n",
    "# Sum all values for now how much USDT make this account.\n",
    "\n",
    "sum_total_usdt = data['TOTAL USDT FECHA'].sum()\n",
    "\n",
    "# TOTAL \n",
    "\n",
    "print(f'Total es {sum_total_usdt}')\n",
    "print(f'Total is {sum_total_usdt}')\n",
    "\n"
   ]
  },
  {
   "cell_type": "markdown",
   "id": "710c541e",
   "metadata": {},
   "source": [
    "### Minado de monedas\n",
    "### CoinMaker"
   ]
  },
  {
   "cell_type": "code",
   "execution_count": 31,
   "id": "ea51ff66",
   "metadata": {},
   "outputs": [
    {
     "name": "stdout",
     "output_type": "stream",
     "text": [
      "El total de GMT minado es 1174.38\n",
      "El total de GMT minado es 64927.79\n"
     ]
    }
   ],
   "source": [
    "data['GMT'] = data['GMT'].fillna(0)\n",
    "sum_total_gmt = data['GMT'].sum()\n",
    "\n",
    "print(f'El total de GMT minado es {sum_total_gmt}')\n",
    "\n",
    "\n",
    "data['Gst ganado'] = data['Gst ganado'].fillna(0)\n",
    "sum_total_gst = data['Gst ganado'].sum()\n",
    "\n",
    "print(f'El total de GMT minado es {sum_total_gst}')\n",
    "\n"
   ]
  },
  {
   "cell_type": "code",
   "execution_count": 42,
   "id": "cb9d75b7",
   "metadata": {},
   "outputs": [
    {
     "name": "stdout",
     "output_type": "stream",
     "text": [
      "Energias usadas para el gmt minning 1208.6000000000001\n",
      "Energias usadas para el gst minning 3862.2999999999997\n",
      "Total de energias  5070.9\n",
      "Porcentaje de gst minado 0.7616596659370132\n",
      "«Porcentaje de gmt minado 0.23834033406298688\n"
     ]
    }
   ],
   "source": [
    "# Cuantas energias se usaron para minar GMT y GST?\n",
    "# How many energys used for minning GMT y GST?\n",
    "\n",
    "# Sabemos que hay 2 sneakers historicas que han realizado GMT minning como uso , las de mas son para Gst\n",
    "# We kmow only 2 sneakers can earned Gmt, else are only for GST.\n",
    "\n",
    "#Zapatillas GMT ;\n",
    "# WEGMT-889 - RARE-WL-1041\n",
    "\n",
    "energias_gmt = data.loc[data['ZAPA'].isin(['RARE-WL-1041', 'WEGMT-889']), 'Energias']\n",
    "energiassum_gmt = energias_gmt.sum()\n",
    "\n",
    "\n",
    "print(f'Energias usadas para el gmt minning {energiassum_gmt}')\n",
    "\n",
    "\n",
    "#Zapatillas GST ;\n",
    "# WL-925 ', 'WEG-579', 'WL-925', 'UNC-WL-432',\n",
    "#'UNC-WEG-168', 'RAREMHTE-020', 'UNCO-WG-2524',\n",
    "#'C-T-946', 'UNCJG-ER-269', 'TEO -638'\n",
    "        \n",
    "        \n",
    "energias_gst = data.loc[data['ZAPA'].isin(['WEG-579','UNC-WL-432','C-T-946', 'UNCJG-ER-269','UNCO-WG-2524','RAREMHTE-020','UNC-WEG-168','WL-925']), 'Energias']\n",
    "energiassum_gst = energias_gst.sum()\n",
    "print(f'Energias usadas para el gst minning {energiassum_gst}')\n",
    "\n",
    "# Porcentaje de minado en energias\n",
    "# Distruibuited energys for minning\n",
    "\n",
    "#total de energias \n",
    "total_energys = energiassum_gst + energiassum_gmt\n",
    "print(f'Total de energias  {total_energys}')\n",
    "\n",
    "#porcentaje energia/gst \n",
    "porcengst = energiassum_gst/total_energys\n",
    "\n",
    "print(f'Porcentaje de gst minado {porcengst}')\n",
    "\n",
    "#porcentaje energia/gmt \n",
    "porcengmt = energiassum_gmt/total_energys\n",
    "print(f'«Porcentaje de gmt minado {porcengmt}')\n"
   ]
  },
  {
   "cell_type": "code",
   "execution_count": 33,
   "id": "6b212dfc",
   "metadata": {},
   "outputs": [
    {
     "data": {
      "image/png": "[encoded data removed]",
      "text/plain": [
       "<Figure size 640x480 with 1 Axes>"
      ]
     },
     "metadata": {},
     "output_type": "display_data"
    }
   ],
   "source": [
    "# Creamos un grafico de torta donde podemos ver los earning hechos a escala por energia\n",
    "# Making a cake graphic for  showed earned at scale per energy\n",
    "\n",
    "# Datos de ejemplo\n",
    "labels = ['GMT', 'Gst']\n",
    "values = [23, 77]\n",
    "colors = ['yellow', 'red']\n",
    "\n",
    "# Crear el gráfico de torta\n",
    "plt.pie(values, labels=labels, colors=colors, autopct='%1.1f%%')\n",
    "\n",
    "# Coin maker results\n",
    "plt.title('Coinmaker / Energy distruibuited')\n",
    "\n",
    "# Mostrar el gráfico\n",
    "plt.show()\n"
   ]
  },
  {
   "cell_type": "code",
   "execution_count": 34,
   "id": "de5137e0",
   "metadata": {},
   "outputs": [
    {
     "name": "stdout",
     "output_type": "stream",
     "text": [
      "El total de gst quemado es por cajas es 38306.5\n",
      "Total for mbs opened 38306.5\n",
      "El total de gst quemado por reparaciones es 5100.5599999999995\n",
      "Total for repair sneakers 5100.5599999999995\n",
      "El total de gst quemado por actualizaciones de gemas 37200.0\n",
      "Total for gems upgrades 37200.0\n"
     ]
    }
   ],
   "source": [
    "# Debemos de restar los gastos en reparaciones de zapatillas, costos de apertura de cajas, actualizaciones de gemas\n",
    "# Have to consider and discount repair sneakers, opened boxes fee and gems upgrades\n",
    "\n",
    "\n",
    "## Gst quemado para mbs \n",
    "## Gst burned for mbs\n",
    "\n",
    "data['Coste de caja gst'] = data['Coste de caja gst'].fillna(0)\n",
    "burnedgst_mb = data['Coste de caja gst'].sum()\n",
    "print(f'El total de gst quemado es por cajas es {burnedgst_mb}')\n",
    "print(f'Total for mbs opened {burnedgst_mb}')\n",
    "\n",
    "\n",
    "## Gst quemado para reparaciones  \n",
    "## Gst burned for repair sneakers \n",
    "\n",
    "data['Arreglo Gst'] = data['Arreglo Gst'].fillna(0)\n",
    "repaircostgst = data['Arreglo Gst'].sum()\n",
    "print(f'El total de gst quemado por reparaciones es {repaircostgst}')\n",
    "print(f'Total for repair sneakers {repaircostgst}')\n",
    "\n",
    "\n",
    "## Gst quemado para actualizaciones \n",
    "## Gst burned for upgrades \n",
    "\n",
    "data['Upgrades'] = data['Upgrades'].fillna(0)\n",
    "upgradesgst = data['Upgrades'].sum()\n",
    "print(f'El total de gst quemado por actualizaciones de gemas {upgradesgst}')\n",
    "print(f'Total for gems upgrades {upgradesgst}')"
   ]
  },
  {
   "cell_type": "markdown",
   "id": "941f926d",
   "metadata": {},
   "source": [
    "### Analisis de intentos y tasa de exito en actualizaciones de gemas\n",
    "### Attempts analysis and success rate of upgraded gems"
   ]
  },
  {
   "cell_type": "code",
   "execution_count": 35,
   "id": "ac013b5e",
   "metadata": {},
   "outputs": [
    {
     "name": "stdout",
     "output_type": "stream",
     "text": [
      "Cantidad de datos en lv1 NO     134\n",
      "YES     63\n",
      "Name: Success LV1, dtype: int64\n",
      "Cantidad de datos en lv2 NO     66\n",
      "YES    62\n",
      "Name: Success LV2, dtype: int64\n",
      "Cantidad de datos en lv3 YES    98\n",
      "NO     55\n",
      "Name: Success LV3, dtype: int64\n",
      "Cantidad de datos en lv4 YES    4\n",
      "NO     1\n",
      "Name: Success LV4, dtype: int64\n"
     ]
    }
   ],
   "source": [
    "# Creamos un conteo de tasa de exito en los upgrades de los distintos niveles.\n",
    "# Make counter for success rate in upgrades of all levels.\n",
    "\n",
    "conteolv1 = data['Success LV1'].value_counts()\n",
    "conteolv2 = data['Success LV2'].value_counts()\n",
    "conteolv3 = data['Success LV3'].value_counts()\n",
    "conteolv4 = data['Success LV4'].value_counts()\n",
    "\n",
    "\n",
    "print(f'Cantidad de datos en lv1 {conteolv1}')\n",
    "print(f'Cantidad de datos en lv2 {conteolv2}')\n",
    "print(f'Cantidad de datos en lv3 {conteolv3}')\n",
    "print(f'Cantidad de datos en lv4 {conteolv4}')\n",
    "\n",
    "\n",
    "\n"
   ]
  },
  {
   "cell_type": "code",
   "execution_count": 36,
   "id": "18d99fa1",
   "metadata": {},
   "outputs": [
    {
     "name": "stdout",
     "output_type": "stream",
     "text": [
      "tasa exito % 31.979695431472084\n",
      "success rate % 31.979695431472084\n",
      "tasa exito % 48.4375\n",
      "success rate % 48.4375\n",
      "tasa exito % 64.05228758169935\n",
      "success rate % 64.05228758169935\n",
      "tasa exito % 80.0\n",
      "success rate % 80.0\n"
     ]
    }
   ],
   "source": [
    "# Mostrar porcentajes tasa\n",
    "# Show porcentual rate\n",
    "\n",
    "#lv1\n",
    "total_yeslv1 = conteolv1['YES']\n",
    "total_nolv1 = conteolv1['NO']\n",
    "\n",
    "ratelv1 = (total_yeslv1 / (total_yeslv1 + total_nolv1)) * 100\n",
    "\n",
    "print(f'tasa exito % {ratelv1}')\n",
    "print(f'success rate % {ratelv1}')\n",
    "\n",
    "\n",
    "\n",
    "#lv2\n",
    "total_yeslv2 = conteolv2['YES']\n",
    "total_nolv2 = conteolv2['NO']\n",
    "\n",
    "ratelv2 = (total_yeslv2 / (total_yeslv2 + total_nolv2)) * 100\n",
    "\n",
    "print(f'tasa exito % {ratelv2}')\n",
    "print(f'success rate % {ratelv2}')\n",
    "\n",
    "\n",
    "\n",
    "#lv3\n",
    "total_yeslv3 = conteolv3['YES']\n",
    "total_nolv3 = conteolv3['NO']\n",
    "\n",
    "ratelv3 = (total_yeslv3 / (total_yeslv3 + total_nolv3)) * 100\n",
    "\n",
    "print(f'tasa exito % {ratelv3}')\n",
    "print(f'success rate % {ratelv3}')\n",
    "\n",
    "\n",
    "\n",
    "#lv4\n",
    "total_yeslv4 = conteolv4['YES']\n",
    "total_nolv4 = conteolv4['NO']\n",
    "\n",
    "ratelv4 = (total_yeslv4 / (total_yeslv4 + total_nolv4)) * 100\n",
    "\n",
    "print(f'tasa exito % {ratelv4}')\n",
    "print(f'success rate % {ratelv4}')\n"
   ]
  },
  {
   "cell_type": "markdown",
   "id": "4fd8caad",
   "metadata": {},
   "source": [
    "#### Interactuando con NOsql"
   ]
  },
  {
   "cell_type": "code",
   "execution_count": 37,
   "id": "828bf0b9",
   "metadata": {},
   "outputs": [],
   "source": [
    "from pymongo import MongoClient\n",
    "Stepnosql = MongoClient()"
   ]
  },
  {
   "cell_type": "code",
   "execution_count": 38,
   "id": "5442f53e",
   "metadata": {},
   "outputs": [],
   "source": [
    "# Creando una base de datos \n",
    "# Create data base \n",
    "\n",
    "db = Stepnosql[\"DBSJM\"]\n",
    "\n",
    "# Creando una coleccion\n",
    "# Create coleccion \n",
    "\n",
    "\n",
    "sneakers = db[\"sneakers\"]\n",
    "\n"
   ]
  },
  {
   "cell_type": "code",
   "execution_count": 39,
   "id": "3aa33f2a",
   "metadata": {},
   "outputs": [
    {
     "ename": "ServerSelectionTimeoutError",
     "evalue": "localhost:27017: [Errno 61] Connection refused, Timeout: 30s, Topology Description: <TopologyDescription id: 64ecf19ba2e8e1e8015eb807, topology_type: Unknown, servers: [<ServerDescription ('localhost', 27017) server_type: Unknown, rtt: None, error=AutoReconnect('localhost:27017: [Errno 61] Connection refused')>]>",
     "output_type": "error",
     "traceback": [
      "\u001b[0;31m---------------------------------------------------------------------------\u001b[0m",
      "\u001b[0;31mServerSelectionTimeoutError\u001b[0m               Traceback (most recent call last)",
      "\u001b[0;32m/var/folders/b1/g95ps3q94l3_vhb04r0d1wd00000gn/T/ipykernel_44579/1030577785.py\u001b[0m in \u001b[0;36m<module>\u001b[0;34m\u001b[0m\n\u001b[1;32m      1\u001b[0m \u001b[0;31m# Commons\u001b[0m\u001b[0;34m\u001b[0m\u001b[0;34m\u001b[0m\u001b[0m\n\u001b[0;32m----> 2\u001b[0;31m \u001b[0msneakers\u001b[0m\u001b[0;34m.\u001b[0m\u001b[0minsert_one\u001b[0m\u001b[0;34m(\u001b[0m\u001b[0;34m{\u001b[0m\u001b[0;34m\"Rarity\"\u001b[0m\u001b[0;34m:\u001b[0m \u001b[0;34m\"Common\"\u001b[0m\u001b[0;34m,\u001b[0m \u001b[0;34m\"Type\"\u001b[0m\u001b[0;34m:\u001b[0m \u001b[0;34m\"Walker\"\u001b[0m\u001b[0;34m,\u001b[0m \u001b[0;34m\"Code\"\u001b[0m\u001b[0;34m:\u001b[0m \u001b[0;34m\"WL-925\"\u001b[0m\u001b[0;34m}\u001b[0m\u001b[0;34m)\u001b[0m\u001b[0;34m\u001b[0m\u001b[0;34m\u001b[0m\u001b[0m\n\u001b[0m\u001b[1;32m      3\u001b[0m \u001b[0msneakers\u001b[0m\u001b[0;34m.\u001b[0m\u001b[0minsert_one\u001b[0m\u001b[0;34m(\u001b[0m\u001b[0;34m{\u001b[0m\u001b[0;34m\"Rarity\"\u001b[0m\u001b[0;34m:\u001b[0m \u001b[0;34m\"Common\"\u001b[0m\u001b[0;34m,\u001b[0m \u001b[0;34m\"Type\"\u001b[0m\u001b[0;34m:\u001b[0m \u001b[0;34m\"Jogger\"\u001b[0m\u001b[0;34m,\u001b[0m \u001b[0;34m\"Code\"\u001b[0m\u001b[0;34m:\u001b[0m \u001b[0;34m\"valor2\"\u001b[0m\u001b[0;34m}\u001b[0m\u001b[0;34m)\u001b[0m\u001b[0;34m\u001b[0m\u001b[0;34m\u001b[0m\u001b[0m\n\u001b[1;32m      4\u001b[0m \u001b[0msneakers\u001b[0m\u001b[0;34m.\u001b[0m\u001b[0minsert_one\u001b[0m\u001b[0;34m(\u001b[0m\u001b[0;34m{\u001b[0m\u001b[0;34m\"Rarity\"\u001b[0m\u001b[0;34m:\u001b[0m \u001b[0;34m\"Common\"\u001b[0m\u001b[0;34m,\u001b[0m \u001b[0;34m\"Type\"\u001b[0m\u001b[0;34m:\u001b[0m \u001b[0;34m\"Runner\"\u001b[0m\u001b[0;34m,\u001b[0m \u001b[0;34m\"Code\"\u001b[0m\u001b[0;34m:\u001b[0m \u001b[0;34m\"valor3\"\u001b[0m\u001b[0;34m}\u001b[0m\u001b[0;34m)\u001b[0m\u001b[0;34m\u001b[0m\u001b[0;34m\u001b[0m\u001b[0m\n\u001b[1;32m      5\u001b[0m \u001b[0msneakers\u001b[0m\u001b[0;34m.\u001b[0m\u001b[0minsert_one\u001b[0m\u001b[0;34m(\u001b[0m\u001b[0;34m{\u001b[0m\u001b[0;34m\"Rarity\"\u001b[0m\u001b[0;34m:\u001b[0m \u001b[0;34m\"Common\"\u001b[0m\u001b[0;34m,\u001b[0m \u001b[0;34m\"Type\"\u001b[0m\u001b[0;34m:\u001b[0m \u001b[0;34m\"Trainer\"\u001b[0m\u001b[0;34m,\u001b[0m \u001b[0;34m\"Code\"\u001b[0m\u001b[0;34m:\u001b[0m \u001b[0;34m\"C-T-946\"\u001b[0m\u001b[0;34m}\u001b[0m\u001b[0;34m)\u001b[0m\u001b[0;34m\u001b[0m\u001b[0;34m\u001b[0m\u001b[0m\n",
      "\u001b[0;32m~/opt/anaconda3/lib/python3.9/site-packages/pymongo/collection.py\u001b[0m in \u001b[0;36minsert_one\u001b[0;34m(self, document, bypass_document_validation, session, comment)\u001b[0m\n\u001b[1;32m    626\u001b[0m         \u001b[0mwrite_concern\u001b[0m \u001b[0;34m=\u001b[0m \u001b[0mself\u001b[0m\u001b[0;34m.\u001b[0m\u001b[0m_write_concern_for\u001b[0m\u001b[0;34m(\u001b[0m\u001b[0msession\u001b[0m\u001b[0;34m)\u001b[0m\u001b[0;34m\u001b[0m\u001b[0;34m\u001b[0m\u001b[0m\n\u001b[1;32m    627\u001b[0m         return InsertOneResult(\n\u001b[0;32m--> 628\u001b[0;31m             self._insert_one(\n\u001b[0m\u001b[1;32m    629\u001b[0m                 \u001b[0mdocument\u001b[0m\u001b[0;34m,\u001b[0m\u001b[0;34m\u001b[0m\u001b[0;34m\u001b[0m\u001b[0m\n\u001b[1;32m    630\u001b[0m                 \u001b[0mordered\u001b[0m\u001b[0;34m=\u001b[0m\u001b[0;32mTrue\u001b[0m\u001b[0;34m,\u001b[0m\u001b[0;34m\u001b[0m\u001b[0;34m\u001b[0m\u001b[0m\n",
      "\u001b[0;32m~/opt/anaconda3/lib/python3.9/site-packages/pymongo/collection.py\u001b[0m in \u001b[0;36m_insert_one\u001b[0;34m(self, doc, ordered, write_concern, op_id, bypass_doc_val, session, comment)\u001b[0m\n\u001b[1;32m    567\u001b[0m             \u001b[0m_check_write_command_response\u001b[0m\u001b[0;34m(\u001b[0m\u001b[0mresult\u001b[0m\u001b[0;34m)\u001b[0m\u001b[0;34m\u001b[0m\u001b[0;34m\u001b[0m\u001b[0m\n\u001b[1;32m    568\u001b[0m \u001b[0;34m\u001b[0m\u001b[0m\n\u001b[0;32m--> 569\u001b[0;31m         \u001b[0mself\u001b[0m\u001b[0;34m.\u001b[0m\u001b[0m__database\u001b[0m\u001b[0;34m.\u001b[0m\u001b[0mclient\u001b[0m\u001b[0;34m.\u001b[0m\u001b[0m_retryable_write\u001b[0m\u001b[0;34m(\u001b[0m\u001b[0macknowledged\u001b[0m\u001b[0;34m,\u001b[0m \u001b[0m_insert_command\u001b[0m\u001b[0;34m,\u001b[0m \u001b[0msession\u001b[0m\u001b[0;34m)\u001b[0m\u001b[0;34m\u001b[0m\u001b[0;34m\u001b[0m\u001b[0m\n\u001b[0m\u001b[1;32m    570\u001b[0m \u001b[0;34m\u001b[0m\u001b[0m\n\u001b[1;32m    571\u001b[0m         \u001b[0;32mif\u001b[0m \u001b[0;32mnot\u001b[0m \u001b[0misinstance\u001b[0m\u001b[0;34m(\u001b[0m\u001b[0mdoc\u001b[0m\u001b[0;34m,\u001b[0m \u001b[0mRawBSONDocument\u001b[0m\u001b[0;34m)\u001b[0m\u001b[0;34m:\u001b[0m\u001b[0;34m\u001b[0m\u001b[0;34m\u001b[0m\u001b[0m\n",
      "\u001b[0;32m~/opt/anaconda3/lib/python3.9/site-packages/pymongo/mongo_client.py\u001b[0m in \u001b[0;36m_retryable_write\u001b[0;34m(self, retryable, func, session)\u001b[0m\n\u001b[1;32m   1473\u001b[0m     \u001b[0;32mdef\u001b[0m \u001b[0m_retryable_write\u001b[0m\u001b[0;34m(\u001b[0m\u001b[0mself\u001b[0m\u001b[0;34m,\u001b[0m \u001b[0mretryable\u001b[0m\u001b[0;34m,\u001b[0m \u001b[0mfunc\u001b[0m\u001b[0;34m,\u001b[0m \u001b[0msession\u001b[0m\u001b[0;34m)\u001b[0m\u001b[0;34m:\u001b[0m\u001b[0;34m\u001b[0m\u001b[0;34m\u001b[0m\u001b[0m\n\u001b[1;32m   1474\u001b[0m         \u001b[0;34m\"\"\"Internal retryable write helper.\"\"\"\u001b[0m\u001b[0;34m\u001b[0m\u001b[0;34m\u001b[0m\u001b[0m\n\u001b[0;32m-> 1475\u001b[0;31m         \u001b[0;32mwith\u001b[0m \u001b[0mself\u001b[0m\u001b[0;34m.\u001b[0m\u001b[0m_tmp_session\u001b[0m\u001b[0;34m(\u001b[0m\u001b[0msession\u001b[0m\u001b[0;34m)\u001b[0m \u001b[0;32mas\u001b[0m \u001b[0ms\u001b[0m\u001b[0;34m:\u001b[0m\u001b[0;34m\u001b[0m\u001b[0;34m\u001b[0m\u001b[0m\n\u001b[0m\u001b[1;32m   1476\u001b[0m             \u001b[0;32mreturn\u001b[0m \u001b[0mself\u001b[0m\u001b[0;34m.\u001b[0m\u001b[0m_retry_with_session\u001b[0m\u001b[0;34m(\u001b[0m\u001b[0mretryable\u001b[0m\u001b[0;34m,\u001b[0m \u001b[0mfunc\u001b[0m\u001b[0;34m,\u001b[0m \u001b[0ms\u001b[0m\u001b[0;34m,\u001b[0m \u001b[0;32mNone\u001b[0m\u001b[0;34m)\u001b[0m\u001b[0;34m\u001b[0m\u001b[0;34m\u001b[0m\u001b[0m\n\u001b[1;32m   1477\u001b[0m \u001b[0;34m\u001b[0m\u001b[0m\n",
      "\u001b[0;32m~/opt/anaconda3/lib/python3.9/contextlib.py\u001b[0m in \u001b[0;36m__enter__\u001b[0;34m(self)\u001b[0m\n\u001b[1;32m    117\u001b[0m         \u001b[0;32mdel\u001b[0m \u001b[0mself\u001b[0m\u001b[0;34m.\u001b[0m\u001b[0margs\u001b[0m\u001b[0;34m,\u001b[0m \u001b[0mself\u001b[0m\u001b[0;34m.\u001b[0m\u001b[0mkwds\u001b[0m\u001b[0;34m,\u001b[0m \u001b[0mself\u001b[0m\u001b[0;34m.\u001b[0m\u001b[0mfunc\u001b[0m\u001b[0;34m\u001b[0m\u001b[0;34m\u001b[0m\u001b[0m\n\u001b[1;32m    118\u001b[0m         \u001b[0;32mtry\u001b[0m\u001b[0;34m:\u001b[0m\u001b[0;34m\u001b[0m\u001b[0;34m\u001b[0m\u001b[0m\n\u001b[0;32m--> 119\u001b[0;31m             \u001b[0;32mreturn\u001b[0m \u001b[0mnext\u001b[0m\u001b[0;34m(\u001b[0m\u001b[0mself\u001b[0m\u001b[0;34m.\u001b[0m\u001b[0mgen\u001b[0m\u001b[0;34m)\u001b[0m\u001b[0;34m\u001b[0m\u001b[0;34m\u001b[0m\u001b[0m\n\u001b[0m\u001b[1;32m    120\u001b[0m         \u001b[0;32mexcept\u001b[0m \u001b[0mStopIteration\u001b[0m\u001b[0;34m:\u001b[0m\u001b[0;34m\u001b[0m\u001b[0;34m\u001b[0m\u001b[0m\n\u001b[1;32m    121\u001b[0m             \u001b[0;32mraise\u001b[0m \u001b[0mRuntimeError\u001b[0m\u001b[0;34m(\u001b[0m\u001b[0;34m\"generator didn't yield\"\u001b[0m\u001b[0;34m)\u001b[0m \u001b[0;32mfrom\u001b[0m \u001b[0;32mNone\u001b[0m\u001b[0;34m\u001b[0m\u001b[0;34m\u001b[0m\u001b[0m\n",
      "\u001b[0;32m~/opt/anaconda3/lib/python3.9/site-packages/pymongo/mongo_client.py\u001b[0m in \u001b[0;36m_tmp_session\u001b[0;34m(self, session, close)\u001b[0m\n\u001b[1;32m   1755\u001b[0m             \u001b[0;32mreturn\u001b[0m\u001b[0;34m\u001b[0m\u001b[0;34m\u001b[0m\u001b[0m\n\u001b[1;32m   1756\u001b[0m \u001b[0;34m\u001b[0m\u001b[0m\n\u001b[0;32m-> 1757\u001b[0;31m         \u001b[0ms\u001b[0m \u001b[0;34m=\u001b[0m \u001b[0mself\u001b[0m\u001b[0;34m.\u001b[0m\u001b[0m_ensure_session\u001b[0m\u001b[0;34m(\u001b[0m\u001b[0msession\u001b[0m\u001b[0;34m)\u001b[0m\u001b[0;34m\u001b[0m\u001b[0;34m\u001b[0m\u001b[0m\n\u001b[0m\u001b[1;32m   1758\u001b[0m         \u001b[0;32mif\u001b[0m \u001b[0ms\u001b[0m\u001b[0;34m:\u001b[0m\u001b[0;34m\u001b[0m\u001b[0;34m\u001b[0m\u001b[0m\n\u001b[1;32m   1759\u001b[0m             \u001b[0;32mtry\u001b[0m\u001b[0;34m:\u001b[0m\u001b[0;34m\u001b[0m\u001b[0;34m\u001b[0m\u001b[0m\n",
      "\u001b[0;32m~/opt/anaconda3/lib/python3.9/site-packages/pymongo/mongo_client.py\u001b[0m in \u001b[0;36m_ensure_session\u001b[0;34m(self, session)\u001b[0m\n\u001b[1;32m   1738\u001b[0m             \u001b[0;31m# Don't make implicit sessions causally consistent. Applications\u001b[0m\u001b[0;34m\u001b[0m\u001b[0;34m\u001b[0m\u001b[0m\n\u001b[1;32m   1739\u001b[0m             \u001b[0;31m# should always opt-in.\u001b[0m\u001b[0;34m\u001b[0m\u001b[0;34m\u001b[0m\u001b[0m\n\u001b[0;32m-> 1740\u001b[0;31m             \u001b[0;32mreturn\u001b[0m \u001b[0mself\u001b[0m\u001b[0;34m.\u001b[0m\u001b[0m__start_session\u001b[0m\u001b[0;34m(\u001b[0m\u001b[0;32mTrue\u001b[0m\u001b[0;34m,\u001b[0m \u001b[0mcausal_consistency\u001b[0m\u001b[0;34m=\u001b[0m\u001b[0;32mFalse\u001b[0m\u001b[0;34m)\u001b[0m\u001b[0;34m\u001b[0m\u001b[0;34m\u001b[0m\u001b[0m\n\u001b[0m\u001b[1;32m   1741\u001b[0m         \u001b[0;32mexcept\u001b[0m \u001b[0;34m(\u001b[0m\u001b[0mConfigurationError\u001b[0m\u001b[0;34m,\u001b[0m \u001b[0mInvalidOperation\u001b[0m\u001b[0;34m)\u001b[0m\u001b[0;34m:\u001b[0m\u001b[0;34m\u001b[0m\u001b[0;34m\u001b[0m\u001b[0m\n\u001b[1;32m   1742\u001b[0m             \u001b[0;31m# Sessions not supported.\u001b[0m\u001b[0;34m\u001b[0m\u001b[0;34m\u001b[0m\u001b[0m\n",
      "\u001b[0;32m~/opt/anaconda3/lib/python3.9/site-packages/pymongo/mongo_client.py\u001b[0m in \u001b[0;36m__start_session\u001b[0;34m(self, implicit, **kwargs)\u001b[0m\n\u001b[1;32m   1683\u001b[0m         \u001b[0;31m# Raises ConfigurationError if sessions are not supported.\u001b[0m\u001b[0;34m\u001b[0m\u001b[0;34m\u001b[0m\u001b[0m\n\u001b[1;32m   1684\u001b[0m         \u001b[0;32mif\u001b[0m \u001b[0mimplicit\u001b[0m\u001b[0;34m:\u001b[0m\u001b[0;34m\u001b[0m\u001b[0;34m\u001b[0m\u001b[0m\n\u001b[0;32m-> 1685\u001b[0;31m             \u001b[0mself\u001b[0m\u001b[0;34m.\u001b[0m\u001b[0m_topology\u001b[0m\u001b[0;34m.\u001b[0m\u001b[0m_check_implicit_session_support\u001b[0m\u001b[0;34m(\u001b[0m\u001b[0;34m)\u001b[0m\u001b[0;34m\u001b[0m\u001b[0;34m\u001b[0m\u001b[0m\n\u001b[0m\u001b[1;32m   1686\u001b[0m             \u001b[0mserver_session\u001b[0m \u001b[0;34m=\u001b[0m \u001b[0m_EmptyServerSession\u001b[0m\u001b[0;34m(\u001b[0m\u001b[0;34m)\u001b[0m\u001b[0;34m\u001b[0m\u001b[0;34m\u001b[0m\u001b[0m\n\u001b[1;32m   1687\u001b[0m         \u001b[0;32melse\u001b[0m\u001b[0;34m:\u001b[0m\u001b[0;34m\u001b[0m\u001b[0;34m\u001b[0m\u001b[0m\n",
      "\u001b[0;32m~/opt/anaconda3/lib/python3.9/site-packages/pymongo/topology.py\u001b[0m in \u001b[0;36m_check_implicit_session_support\u001b[0;34m(self)\u001b[0m\n\u001b[1;32m    536\u001b[0m     \u001b[0;32mdef\u001b[0m \u001b[0m_check_implicit_session_support\u001b[0m\u001b[0;34m(\u001b[0m\u001b[0mself\u001b[0m\u001b[0;34m)\u001b[0m\u001b[0;34m:\u001b[0m\u001b[0;34m\u001b[0m\u001b[0;34m\u001b[0m\u001b[0m\n\u001b[1;32m    537\u001b[0m         \u001b[0;32mwith\u001b[0m \u001b[0mself\u001b[0m\u001b[0;34m.\u001b[0m\u001b[0m_lock\u001b[0m\u001b[0;34m:\u001b[0m\u001b[0;34m\u001b[0m\u001b[0;34m\u001b[0m\u001b[0m\n\u001b[0;32m--> 538\u001b[0;31m             \u001b[0mself\u001b[0m\u001b[0;34m.\u001b[0m\u001b[0m_check_session_support\u001b[0m\u001b[0;34m(\u001b[0m\u001b[0;34m)\u001b[0m\u001b[0;34m\u001b[0m\u001b[0;34m\u001b[0m\u001b[0m\n\u001b[0m\u001b[1;32m    539\u001b[0m \u001b[0;34m\u001b[0m\u001b[0m\n\u001b[1;32m    540\u001b[0m     \u001b[0;32mdef\u001b[0m \u001b[0m_check_session_support\u001b[0m\u001b[0;34m(\u001b[0m\u001b[0mself\u001b[0m\u001b[0;34m)\u001b[0m\u001b[0;34m:\u001b[0m\u001b[0;34m\u001b[0m\u001b[0;34m\u001b[0m\u001b[0m\n",
      "\u001b[0;32m~/opt/anaconda3/lib/python3.9/site-packages/pymongo/topology.py\u001b[0m in \u001b[0;36m_check_session_support\u001b[0;34m(self)\u001b[0m\n\u001b[1;32m    552\u001b[0m                     )\n\u001b[1;32m    553\u001b[0m             \u001b[0;32melif\u001b[0m \u001b[0;32mnot\u001b[0m \u001b[0mself\u001b[0m\u001b[0;34m.\u001b[0m\u001b[0m_description\u001b[0m\u001b[0;34m.\u001b[0m\u001b[0mreadable_servers\u001b[0m\u001b[0;34m:\u001b[0m\u001b[0;34m\u001b[0m\u001b[0;34m\u001b[0m\u001b[0m\n\u001b[0;32m--> 554\u001b[0;31m                 self._select_servers_loop(\n\u001b[0m\u001b[1;32m    555\u001b[0m                     \u001b[0mreadable_server_selector\u001b[0m\u001b[0;34m,\u001b[0m \u001b[0mself\u001b[0m\u001b[0;34m.\u001b[0m\u001b[0mget_server_selection_timeout\u001b[0m\u001b[0;34m(\u001b[0m\u001b[0;34m)\u001b[0m\u001b[0;34m,\u001b[0m \u001b[0;32mNone\u001b[0m\u001b[0;34m\u001b[0m\u001b[0;34m\u001b[0m\u001b[0m\n\u001b[1;32m    556\u001b[0m                 )\n",
      "\u001b[0;32m~/opt/anaconda3/lib/python3.9/site-packages/pymongo/topology.py\u001b[0m in \u001b[0;36m_select_servers_loop\u001b[0;34m(self, selector, timeout, address)\u001b[0m\n\u001b[1;32m    236\u001b[0m             \u001b[0;31m# No suitable servers.\u001b[0m\u001b[0;34m\u001b[0m\u001b[0;34m\u001b[0m\u001b[0m\n\u001b[1;32m    237\u001b[0m             \u001b[0;32mif\u001b[0m \u001b[0mtimeout\u001b[0m \u001b[0;34m==\u001b[0m \u001b[0;36m0\u001b[0m \u001b[0;32mor\u001b[0m \u001b[0mnow\u001b[0m \u001b[0;34m>\u001b[0m \u001b[0mend_time\u001b[0m\u001b[0;34m:\u001b[0m\u001b[0;34m\u001b[0m\u001b[0;34m\u001b[0m\u001b[0m\n\u001b[0;32m--> 238\u001b[0;31m                 raise ServerSelectionTimeoutError(\n\u001b[0m\u001b[1;32m    239\u001b[0m                     \u001b[0;34m\"%s, Timeout: %ss, Topology Description: %r\"\u001b[0m\u001b[0;34m\u001b[0m\u001b[0;34m\u001b[0m\u001b[0m\n\u001b[1;32m    240\u001b[0m                     \u001b[0;34m%\u001b[0m \u001b[0;34m(\u001b[0m\u001b[0mself\u001b[0m\u001b[0;34m.\u001b[0m\u001b[0m_error_message\u001b[0m\u001b[0;34m(\u001b[0m\u001b[0mselector\u001b[0m\u001b[0;34m)\u001b[0m\u001b[0;34m,\u001b[0m \u001b[0mtimeout\u001b[0m\u001b[0;34m,\u001b[0m \u001b[0mself\u001b[0m\u001b[0;34m.\u001b[0m\u001b[0mdescription\u001b[0m\u001b[0;34m)\u001b[0m\u001b[0;34m\u001b[0m\u001b[0;34m\u001b[0m\u001b[0m\n",
      "\u001b[0;31mServerSelectionTimeoutError\u001b[0m: localhost:27017: [Errno 61] Connection refused, Timeout: 30s, Topology Description: <TopologyDescription id: 64ecf19ba2e8e1e8015eb807, topology_type: Unknown, servers: [<ServerDescription ('localhost', 27017) server_type: Unknown, rtt: None, error=AutoReconnect('localhost:27017: [Errno 61] Connection refused')>]>"
     ]
    }
   ],
   "source": [
    "# Commons\n",
    "sneakers.insert_one({\"Rarity\": \"Common\", \"Type\": \"Walker\", \"Code\": \"WL-925\"})\n",
    "sneakers.insert_one({\"Rarity\": \"Common\", \"Type\": \"Jogger\", \"Code\": \"valor2\"})\n",
    "sneakers.insert_one({\"Rarity\": \"Common\", \"Type\": \"Runner\", \"Code\": \"valor3\"})\n",
    "sneakers.insert_one({\"Rarity\": \"Common\", \"Type\": \"Trainer\", \"Code\": \"C-T-946\"})\n",
    "\n",
    "# Uncommons\n",
    "sneakers.insert_one({\"Rarity\": \"Uncommon\", \"Type\": \"Walker\", \"Code\": \"WEGMT-889\"})\n",
    "sneakers.insert_one({\"Rarity\": \"Uncommon\", \"Type\": \"Walker\", \"Code\": \"WEG-579\"})\n",
    "sneakers.insert_one({\"Rarity\": \"Uncommon\", \"Type\": \"Walker\", \"Code\": \"UNC-WL-432\"})\n",
    "sneakers.insert_one({\"Rarity\": \"Uncommon\", \"Type\": \"Walker\", \"Code\": \"UNC-WEG-168\"})\n",
    "sneakers.insert_one({\"Rarity\": \"Uncommon\", \"Type\": \"Walker\", \"Code\": \"UNCO-WG-2524\"})\n",
    "sneakers.insert_one({\"Rarity\": \"Uncommon\", \"Type\": \"Jogger\", \"Code\": \"UNCJG-ER-269\"})\n",
    "\n",
    "\n",
    "# Rare\n",
    "sneakers.insert_one({\"Rarity\": \"Rare\", \"Type\": \"Walker\", \"Code\": \"RARE-WL-1041\"})\n",
    "sneakers.insert_one({\"Rarity\": \"Rare\", \"Type\": \"Jogger\", \"Code\": \"RAREMHTE-020\"})\n",
    "sneakers.insert_one({\"Rarity\": \"Rare\", \"Type\": \"Runner\", \"Code\": \"valor3\"})\n",
    "sneakers.insert_one({\"Rarity\": \"Rare\", \"Type\": \"Trainer\", \"Code\": \"valor4\"})\n",
    "\n",
    "# Epic\n",
    "sneakers.insert_one({\"Rarity\": \"Epic\", \"Type\": \"Walker\", \"Code\": \"WL-925\"})\n",
    "sneakers.insert_one({\"Rarity\": \"Epic\", \"Type\": \"Jogger\", \"Code\": \"valor2\"})\n",
    "sneakers.insert_one({\"Rarity\": \"Epic\", \"Type\": \"Runner\", \"Code\": \"valor3\"})\n",
    "sneakers.insert_one({\"Rarity\": \"Epic\", \"Type\": \"Trainer\", \"Code\": \"valor4\"})\n"
   ]
  },
  {
   "cell_type": "code",
   "execution_count": null,
   "id": "c50c94e6",
   "metadata": {},
   "outputs": [],
   "source": [
    "test = db.sneakers.find()\n",
    "\n",
    "for document in test:\n",
    "    print(document)"
   ]
  },
  {
   "cell_type": "code",
   "execution_count": null,
   "id": "c7c17ad3",
   "metadata": {},
   "outputs": [],
   "source": [
    "data_filtrada = data[data['ZAPA'] == 'WEGMT-889']\n",
    "\n"
   ]
  },
  {
   "cell_type": "code",
   "execution_count": 68,
   "id": "80c12fa3",
   "metadata": {},
   "outputs": [
    {
     "ename": "ServerSelectionTimeoutError",
     "evalue": "localhost:27017: [Errno 61] Connection refused, Timeout: 30s, Topology Description: <TopologyDescription id: 64ecf19ba2e8e1e8015eb807, topology_type: Unknown, servers: [<ServerDescription ('localhost', 27017) server_type: Unknown, rtt: None, error=AutoReconnect('localhost:27017: [Errno 61] Connection refused')>]>",
     "output_type": "error",
     "traceback": [
      "\u001b[0;31m---------------------------------------------------------------------------\u001b[0m",
      "\u001b[0;31mServerSelectionTimeoutError\u001b[0m               Traceback (most recent call last)",
      "\u001b[0;32m/var/folders/b1/g95ps3q94l3_vhb04r0d1wd00000gn/T/ipykernel_44579/919812538.py\u001b[0m in \u001b[0;36m<module>\u001b[0;34m\u001b[0m\n\u001b[1;32m     10\u001b[0m \u001b[0;31m# Inserta los documentos en la colección \"clientes\"\u001b[0m\u001b[0;34m\u001b[0m\u001b[0;34m\u001b[0m\u001b[0m\n\u001b[1;32m     11\u001b[0m \u001b[0mcollection\u001b[0m \u001b[0;34m=\u001b[0m \u001b[0mdb\u001b[0m\u001b[0;34m[\u001b[0m\u001b[0;34m'DBSJM'\u001b[0m\u001b[0;34m]\u001b[0m\u001b[0;34m\u001b[0m\u001b[0;34m\u001b[0m\u001b[0m\n\u001b[0;32m---> 12\u001b[0;31m \u001b[0mcollection\u001b[0m\u001b[0;34m.\u001b[0m\u001b[0minsert_many\u001b[0m\u001b[0;34m(\u001b[0m\u001b[0mdocumentos\u001b[0m\u001b[0;34m)\u001b[0m\u001b[0;34m\u001b[0m\u001b[0;34m\u001b[0m\u001b[0m\n\u001b[0m",
      "\u001b[0;32m~/opt/anaconda3/lib/python3.9/site-packages/pymongo/_csot.py\u001b[0m in \u001b[0;36mcsot_wrapper\u001b[0;34m(self, *args, **kwargs)\u001b[0m\n\u001b[1;32m    103\u001b[0m                 \u001b[0;32mwith\u001b[0m \u001b[0m_TimeoutContext\u001b[0m\u001b[0;34m(\u001b[0m\u001b[0mtimeout\u001b[0m\u001b[0;34m)\u001b[0m\u001b[0;34m:\u001b[0m\u001b[0;34m\u001b[0m\u001b[0;34m\u001b[0m\u001b[0m\n\u001b[1;32m    104\u001b[0m                     \u001b[0;32mreturn\u001b[0m \u001b[0mfunc\u001b[0m\u001b[0;34m(\u001b[0m\u001b[0mself\u001b[0m\u001b[0;34m,\u001b[0m \u001b[0;34m*\u001b[0m\u001b[0margs\u001b[0m\u001b[0;34m,\u001b[0m \u001b[0;34m**\u001b[0m\u001b[0mkwargs\u001b[0m\u001b[0;34m)\u001b[0m\u001b[0;34m\u001b[0m\u001b[0;34m\u001b[0m\u001b[0m\n\u001b[0;32m--> 105\u001b[0;31m         \u001b[0;32mreturn\u001b[0m \u001b[0mfunc\u001b[0m\u001b[0;34m(\u001b[0m\u001b[0mself\u001b[0m\u001b[0;34m,\u001b[0m \u001b[0;34m*\u001b[0m\u001b[0margs\u001b[0m\u001b[0;34m,\u001b[0m \u001b[0;34m**\u001b[0m\u001b[0mkwargs\u001b[0m\u001b[0;34m)\u001b[0m\u001b[0;34m\u001b[0m\u001b[0;34m\u001b[0m\u001b[0m\n\u001b[0m\u001b[1;32m    106\u001b[0m \u001b[0;34m\u001b[0m\u001b[0m\n\u001b[1;32m    107\u001b[0m     \u001b[0;32mreturn\u001b[0m \u001b[0mcast\u001b[0m\u001b[0;34m(\u001b[0m\u001b[0mF\u001b[0m\u001b[0;34m,\u001b[0m \u001b[0mcsot_wrapper\u001b[0m\u001b[0;34m)\u001b[0m\u001b[0;34m\u001b[0m\u001b[0;34m\u001b[0m\u001b[0m\n",
      "\u001b[0;32m~/opt/anaconda3/lib/python3.9/site-packages/pymongo/collection.py\u001b[0m in \u001b[0;36minsert_many\u001b[0;34m(self, documents, ordered, bypass_document_validation, session, comment)\u001b[0m\n\u001b[1;32m    712\u001b[0m         \u001b[0mblk\u001b[0m \u001b[0;34m=\u001b[0m \u001b[0m_Bulk\u001b[0m\u001b[0;34m(\u001b[0m\u001b[0mself\u001b[0m\u001b[0;34m,\u001b[0m \u001b[0mordered\u001b[0m\u001b[0;34m,\u001b[0m \u001b[0mbypass_document_validation\u001b[0m\u001b[0;34m,\u001b[0m \u001b[0mcomment\u001b[0m\u001b[0;34m=\u001b[0m\u001b[0mcomment\u001b[0m\u001b[0;34m)\u001b[0m\u001b[0;34m\u001b[0m\u001b[0;34m\u001b[0m\u001b[0m\n\u001b[1;32m    713\u001b[0m         \u001b[0mblk\u001b[0m\u001b[0;34m.\u001b[0m\u001b[0mops\u001b[0m \u001b[0;34m=\u001b[0m \u001b[0;34m[\u001b[0m\u001b[0mdoc\u001b[0m \u001b[0;32mfor\u001b[0m \u001b[0mdoc\u001b[0m \u001b[0;32min\u001b[0m \u001b[0mgen\u001b[0m\u001b[0;34m(\u001b[0m\u001b[0;34m)\u001b[0m\u001b[0;34m]\u001b[0m\u001b[0;34m\u001b[0m\u001b[0;34m\u001b[0m\u001b[0m\n\u001b[0;32m--> 714\u001b[0;31m         \u001b[0mblk\u001b[0m\u001b[0;34m.\u001b[0m\u001b[0mexecute\u001b[0m\u001b[0;34m(\u001b[0m\u001b[0mwrite_concern\u001b[0m\u001b[0;34m,\u001b[0m \u001b[0msession\u001b[0m\u001b[0;34m=\u001b[0m\u001b[0msession\u001b[0m\u001b[0;34m)\u001b[0m\u001b[0;34m\u001b[0m\u001b[0;34m\u001b[0m\u001b[0m\n\u001b[0m\u001b[1;32m    715\u001b[0m         \u001b[0;32mreturn\u001b[0m \u001b[0mInsertManyResult\u001b[0m\u001b[0;34m(\u001b[0m\u001b[0minserted_ids\u001b[0m\u001b[0;34m,\u001b[0m \u001b[0mwrite_concern\u001b[0m\u001b[0;34m.\u001b[0m\u001b[0macknowledged\u001b[0m\u001b[0;34m)\u001b[0m\u001b[0;34m\u001b[0m\u001b[0;34m\u001b[0m\u001b[0m\n\u001b[1;32m    716\u001b[0m \u001b[0;34m\u001b[0m\u001b[0m\n",
      "\u001b[0;32m~/opt/anaconda3/lib/python3.9/site-packages/pymongo/bulk.py\u001b[0m in \u001b[0;36mexecute\u001b[0;34m(self, write_concern, session)\u001b[0m\n\u001b[1;32m    511\u001b[0m                 \u001b[0mself\u001b[0m\u001b[0;34m.\u001b[0m\u001b[0mexecute_no_results\u001b[0m\u001b[0;34m(\u001b[0m\u001b[0msock_info\u001b[0m\u001b[0;34m,\u001b[0m \u001b[0mgenerator\u001b[0m\u001b[0;34m,\u001b[0m \u001b[0mwrite_concern\u001b[0m\u001b[0;34m)\u001b[0m\u001b[0;34m\u001b[0m\u001b[0;34m\u001b[0m\u001b[0m\n\u001b[1;32m    512\u001b[0m         \u001b[0;32melse\u001b[0m\u001b[0;34m:\u001b[0m\u001b[0;34m\u001b[0m\u001b[0;34m\u001b[0m\u001b[0m\n\u001b[0;32m--> 513\u001b[0;31m             \u001b[0;32mreturn\u001b[0m \u001b[0mself\u001b[0m\u001b[0;34m.\u001b[0m\u001b[0mexecute_command\u001b[0m\u001b[0;34m(\u001b[0m\u001b[0mgenerator\u001b[0m\u001b[0;34m,\u001b[0m \u001b[0mwrite_concern\u001b[0m\u001b[0;34m,\u001b[0m \u001b[0msession\u001b[0m\u001b[0;34m)\u001b[0m\u001b[0;34m\u001b[0m\u001b[0;34m\u001b[0m\u001b[0m\n\u001b[0m",
      "\u001b[0;32m~/opt/anaconda3/lib/python3.9/site-packages/pymongo/bulk.py\u001b[0m in \u001b[0;36mexecute_command\u001b[0;34m(self, generator, write_concern, session)\u001b[0m\n\u001b[1;32m    388\u001b[0m \u001b[0;34m\u001b[0m\u001b[0m\n\u001b[1;32m    389\u001b[0m         \u001b[0mclient\u001b[0m \u001b[0;34m=\u001b[0m \u001b[0mself\u001b[0m\u001b[0;34m.\u001b[0m\u001b[0mcollection\u001b[0m\u001b[0;34m.\u001b[0m\u001b[0mdatabase\u001b[0m\u001b[0;34m.\u001b[0m\u001b[0mclient\u001b[0m\u001b[0;34m\u001b[0m\u001b[0;34m\u001b[0m\u001b[0m\n\u001b[0;32m--> 390\u001b[0;31m         \u001b[0;32mwith\u001b[0m \u001b[0mclient\u001b[0m\u001b[0;34m.\u001b[0m\u001b[0m_tmp_session\u001b[0m\u001b[0;34m(\u001b[0m\u001b[0msession\u001b[0m\u001b[0;34m)\u001b[0m \u001b[0;32mas\u001b[0m \u001b[0ms\u001b[0m\u001b[0;34m:\u001b[0m\u001b[0;34m\u001b[0m\u001b[0;34m\u001b[0m\u001b[0m\n\u001b[0m\u001b[1;32m    391\u001b[0m             \u001b[0mclient\u001b[0m\u001b[0;34m.\u001b[0m\u001b[0m_retry_with_session\u001b[0m\u001b[0;34m(\u001b[0m\u001b[0mself\u001b[0m\u001b[0;34m.\u001b[0m\u001b[0mis_retryable\u001b[0m\u001b[0;34m,\u001b[0m \u001b[0mretryable_bulk\u001b[0m\u001b[0;34m,\u001b[0m \u001b[0ms\u001b[0m\u001b[0;34m,\u001b[0m \u001b[0mself\u001b[0m\u001b[0;34m)\u001b[0m\u001b[0;34m\u001b[0m\u001b[0;34m\u001b[0m\u001b[0m\n\u001b[1;32m    392\u001b[0m \u001b[0;34m\u001b[0m\u001b[0m\n",
      "\u001b[0;32m~/opt/anaconda3/lib/python3.9/contextlib.py\u001b[0m in \u001b[0;36m__enter__\u001b[0;34m(self)\u001b[0m\n\u001b[1;32m    117\u001b[0m         \u001b[0;32mdel\u001b[0m \u001b[0mself\u001b[0m\u001b[0;34m.\u001b[0m\u001b[0margs\u001b[0m\u001b[0;34m,\u001b[0m \u001b[0mself\u001b[0m\u001b[0;34m.\u001b[0m\u001b[0mkwds\u001b[0m\u001b[0;34m,\u001b[0m \u001b[0mself\u001b[0m\u001b[0;34m.\u001b[0m\u001b[0mfunc\u001b[0m\u001b[0;34m\u001b[0m\u001b[0;34m\u001b[0m\u001b[0m\n\u001b[1;32m    118\u001b[0m         \u001b[0;32mtry\u001b[0m\u001b[0;34m:\u001b[0m\u001b[0;34m\u001b[0m\u001b[0;34m\u001b[0m\u001b[0m\n\u001b[0;32m--> 119\u001b[0;31m             \u001b[0;32mreturn\u001b[0m \u001b[0mnext\u001b[0m\u001b[0;34m(\u001b[0m\u001b[0mself\u001b[0m\u001b[0;34m.\u001b[0m\u001b[0mgen\u001b[0m\u001b[0;34m)\u001b[0m\u001b[0;34m\u001b[0m\u001b[0;34m\u001b[0m\u001b[0m\n\u001b[0m\u001b[1;32m    120\u001b[0m         \u001b[0;32mexcept\u001b[0m \u001b[0mStopIteration\u001b[0m\u001b[0;34m:\u001b[0m\u001b[0;34m\u001b[0m\u001b[0;34m\u001b[0m\u001b[0m\n\u001b[1;32m    121\u001b[0m             \u001b[0;32mraise\u001b[0m \u001b[0mRuntimeError\u001b[0m\u001b[0;34m(\u001b[0m\u001b[0;34m\"generator didn't yield\"\u001b[0m\u001b[0;34m)\u001b[0m \u001b[0;32mfrom\u001b[0m \u001b[0;32mNone\u001b[0m\u001b[0;34m\u001b[0m\u001b[0;34m\u001b[0m\u001b[0m\n",
      "\u001b[0;32m~/opt/anaconda3/lib/python3.9/site-packages/pymongo/mongo_client.py\u001b[0m in \u001b[0;36m_tmp_session\u001b[0;34m(self, session, close)\u001b[0m\n\u001b[1;32m   1755\u001b[0m             \u001b[0;32mreturn\u001b[0m\u001b[0;34m\u001b[0m\u001b[0;34m\u001b[0m\u001b[0m\n\u001b[1;32m   1756\u001b[0m \u001b[0;34m\u001b[0m\u001b[0m\n\u001b[0;32m-> 1757\u001b[0;31m         \u001b[0ms\u001b[0m \u001b[0;34m=\u001b[0m \u001b[0mself\u001b[0m\u001b[0;34m.\u001b[0m\u001b[0m_ensure_session\u001b[0m\u001b[0;34m(\u001b[0m\u001b[0msession\u001b[0m\u001b[0;34m)\u001b[0m\u001b[0;34m\u001b[0m\u001b[0;34m\u001b[0m\u001b[0m\n\u001b[0m\u001b[1;32m   1758\u001b[0m         \u001b[0;32mif\u001b[0m \u001b[0ms\u001b[0m\u001b[0;34m:\u001b[0m\u001b[0;34m\u001b[0m\u001b[0;34m\u001b[0m\u001b[0m\n\u001b[1;32m   1759\u001b[0m             \u001b[0;32mtry\u001b[0m\u001b[0;34m:\u001b[0m\u001b[0;34m\u001b[0m\u001b[0;34m\u001b[0m\u001b[0m\n",
      "\u001b[0;32m~/opt/anaconda3/lib/python3.9/site-packages/pymongo/mongo_client.py\u001b[0m in \u001b[0;36m_ensure_session\u001b[0;34m(self, session)\u001b[0m\n\u001b[1;32m   1738\u001b[0m             \u001b[0;31m# Don't make implicit sessions causally consistent. Applications\u001b[0m\u001b[0;34m\u001b[0m\u001b[0;34m\u001b[0m\u001b[0m\n\u001b[1;32m   1739\u001b[0m             \u001b[0;31m# should always opt-in.\u001b[0m\u001b[0;34m\u001b[0m\u001b[0;34m\u001b[0m\u001b[0m\n\u001b[0;32m-> 1740\u001b[0;31m             \u001b[0;32mreturn\u001b[0m \u001b[0mself\u001b[0m\u001b[0;34m.\u001b[0m\u001b[0m__start_session\u001b[0m\u001b[0;34m(\u001b[0m\u001b[0;32mTrue\u001b[0m\u001b[0;34m,\u001b[0m \u001b[0mcausal_consistency\u001b[0m\u001b[0;34m=\u001b[0m\u001b[0;32mFalse\u001b[0m\u001b[0;34m)\u001b[0m\u001b[0;34m\u001b[0m\u001b[0;34m\u001b[0m\u001b[0m\n\u001b[0m\u001b[1;32m   1741\u001b[0m         \u001b[0;32mexcept\u001b[0m \u001b[0;34m(\u001b[0m\u001b[0mConfigurationError\u001b[0m\u001b[0;34m,\u001b[0m \u001b[0mInvalidOperation\u001b[0m\u001b[0;34m)\u001b[0m\u001b[0;34m:\u001b[0m\u001b[0;34m\u001b[0m\u001b[0;34m\u001b[0m\u001b[0m\n\u001b[1;32m   1742\u001b[0m             \u001b[0;31m# Sessions not supported.\u001b[0m\u001b[0;34m\u001b[0m\u001b[0;34m\u001b[0m\u001b[0m\n",
      "\u001b[0;32m~/opt/anaconda3/lib/python3.9/site-packages/pymongo/mongo_client.py\u001b[0m in \u001b[0;36m__start_session\u001b[0;34m(self, implicit, **kwargs)\u001b[0m\n\u001b[1;32m   1683\u001b[0m         \u001b[0;31m# Raises ConfigurationError if sessions are not supported.\u001b[0m\u001b[0;34m\u001b[0m\u001b[0;34m\u001b[0m\u001b[0m\n\u001b[1;32m   1684\u001b[0m         \u001b[0;32mif\u001b[0m \u001b[0mimplicit\u001b[0m\u001b[0;34m:\u001b[0m\u001b[0;34m\u001b[0m\u001b[0;34m\u001b[0m\u001b[0m\n\u001b[0;32m-> 1685\u001b[0;31m             \u001b[0mself\u001b[0m\u001b[0;34m.\u001b[0m\u001b[0m_topology\u001b[0m\u001b[0;34m.\u001b[0m\u001b[0m_check_implicit_session_support\u001b[0m\u001b[0;34m(\u001b[0m\u001b[0;34m)\u001b[0m\u001b[0;34m\u001b[0m\u001b[0;34m\u001b[0m\u001b[0m\n\u001b[0m\u001b[1;32m   1686\u001b[0m             \u001b[0mserver_session\u001b[0m \u001b[0;34m=\u001b[0m \u001b[0m_EmptyServerSession\u001b[0m\u001b[0;34m(\u001b[0m\u001b[0;34m)\u001b[0m\u001b[0;34m\u001b[0m\u001b[0;34m\u001b[0m\u001b[0m\n\u001b[1;32m   1687\u001b[0m         \u001b[0;32melse\u001b[0m\u001b[0;34m:\u001b[0m\u001b[0;34m\u001b[0m\u001b[0;34m\u001b[0m\u001b[0m\n",
      "\u001b[0;32m~/opt/anaconda3/lib/python3.9/site-packages/pymongo/topology.py\u001b[0m in \u001b[0;36m_check_implicit_session_support\u001b[0;34m(self)\u001b[0m\n\u001b[1;32m    536\u001b[0m     \u001b[0;32mdef\u001b[0m \u001b[0m_check_implicit_session_support\u001b[0m\u001b[0;34m(\u001b[0m\u001b[0mself\u001b[0m\u001b[0;34m)\u001b[0m\u001b[0;34m:\u001b[0m\u001b[0;34m\u001b[0m\u001b[0;34m\u001b[0m\u001b[0m\n\u001b[1;32m    537\u001b[0m         \u001b[0;32mwith\u001b[0m \u001b[0mself\u001b[0m\u001b[0;34m.\u001b[0m\u001b[0m_lock\u001b[0m\u001b[0;34m:\u001b[0m\u001b[0;34m\u001b[0m\u001b[0;34m\u001b[0m\u001b[0m\n\u001b[0;32m--> 538\u001b[0;31m             \u001b[0mself\u001b[0m\u001b[0;34m.\u001b[0m\u001b[0m_check_session_support\u001b[0m\u001b[0;34m(\u001b[0m\u001b[0;34m)\u001b[0m\u001b[0;34m\u001b[0m\u001b[0;34m\u001b[0m\u001b[0m\n\u001b[0m\u001b[1;32m    539\u001b[0m \u001b[0;34m\u001b[0m\u001b[0m\n\u001b[1;32m    540\u001b[0m     \u001b[0;32mdef\u001b[0m \u001b[0m_check_session_support\u001b[0m\u001b[0;34m(\u001b[0m\u001b[0mself\u001b[0m\u001b[0;34m)\u001b[0m\u001b[0;34m:\u001b[0m\u001b[0;34m\u001b[0m\u001b[0;34m\u001b[0m\u001b[0m\n",
      "\u001b[0;32m~/opt/anaconda3/lib/python3.9/site-packages/pymongo/topology.py\u001b[0m in \u001b[0;36m_check_session_support\u001b[0;34m(self)\u001b[0m\n\u001b[1;32m    552\u001b[0m                     )\n\u001b[1;32m    553\u001b[0m             \u001b[0;32melif\u001b[0m \u001b[0;32mnot\u001b[0m \u001b[0mself\u001b[0m\u001b[0;34m.\u001b[0m\u001b[0m_description\u001b[0m\u001b[0;34m.\u001b[0m\u001b[0mreadable_servers\u001b[0m\u001b[0;34m:\u001b[0m\u001b[0;34m\u001b[0m\u001b[0;34m\u001b[0m\u001b[0m\n\u001b[0;32m--> 554\u001b[0;31m                 self._select_servers_loop(\n\u001b[0m\u001b[1;32m    555\u001b[0m                     \u001b[0mreadable_server_selector\u001b[0m\u001b[0;34m,\u001b[0m \u001b[0mself\u001b[0m\u001b[0;34m.\u001b[0m\u001b[0mget_server_selection_timeout\u001b[0m\u001b[0;34m(\u001b[0m\u001b[0;34m)\u001b[0m\u001b[0;34m,\u001b[0m \u001b[0;32mNone\u001b[0m\u001b[0;34m\u001b[0m\u001b[0;34m\u001b[0m\u001b[0m\n\u001b[1;32m    556\u001b[0m                 )\n",
      "\u001b[0;32m~/opt/anaconda3/lib/python3.9/site-packages/pymongo/topology.py\u001b[0m in \u001b[0;36m_select_servers_loop\u001b[0;34m(self, selector, timeout, address)\u001b[0m\n\u001b[1;32m    236\u001b[0m             \u001b[0;31m# No suitable servers.\u001b[0m\u001b[0;34m\u001b[0m\u001b[0;34m\u001b[0m\u001b[0m\n\u001b[1;32m    237\u001b[0m             \u001b[0;32mif\u001b[0m \u001b[0mtimeout\u001b[0m \u001b[0;34m==\u001b[0m \u001b[0;36m0\u001b[0m \u001b[0;32mor\u001b[0m \u001b[0mnow\u001b[0m \u001b[0;34m>\u001b[0m \u001b[0mend_time\u001b[0m\u001b[0;34m:\u001b[0m\u001b[0;34m\u001b[0m\u001b[0;34m\u001b[0m\u001b[0m\n\u001b[0;32m--> 238\u001b[0;31m                 raise ServerSelectionTimeoutError(\n\u001b[0m\u001b[1;32m    239\u001b[0m                     \u001b[0;34m\"%s, Timeout: %ss, Topology Description: %r\"\u001b[0m\u001b[0;34m\u001b[0m\u001b[0;34m\u001b[0m\u001b[0m\n\u001b[1;32m    240\u001b[0m                     \u001b[0;34m%\u001b[0m \u001b[0;34m(\u001b[0m\u001b[0mself\u001b[0m\u001b[0;34m.\u001b[0m\u001b[0m_error_message\u001b[0m\u001b[0;34m(\u001b[0m\u001b[0mselector\u001b[0m\u001b[0;34m)\u001b[0m\u001b[0;34m,\u001b[0m \u001b[0mtimeout\u001b[0m\u001b[0;34m,\u001b[0m \u001b[0mself\u001b[0m\u001b[0;34m.\u001b[0m\u001b[0mdescription\u001b[0m\u001b[0;34m)\u001b[0m\u001b[0;34m\u001b[0m\u001b[0;34m\u001b[0m\u001b[0m\n",
      "\u001b[0;31mServerSelectionTimeoutError\u001b[0m: localhost:27017: [Errno 61] Connection refused, Timeout: 30s, Topology Description: <TopologyDescription id: 64ecf19ba2e8e1e8015eb807, topology_type: Unknown, servers: [<ServerDescription ('localhost', 27017) server_type: Unknown, rtt: None, error=AutoReconnect('localhost:27017: [Errno 61] Connection refused')>]>"
     ]
    }
   ],
   "source": [
    "# Conexión a la base de datos\n",
    "Stepnosql = MongoClient()\n",
    "\n",
    "# Obtén el DataFrame filtrado\n",
    "data_filtrada = data[data['ZAPA'] == 'WEGMT-889']\n",
    "\n",
    "# Convierte el DataFrame en una lista de documentos\n",
    "documentos = data_filtrada.to_dict(orient='records')\n",
    "\n",
    "# Inserta los documentos en la colección \"clientes\"\n",
    "collection = db['DBSJM']\n",
    "collection.insert_many(documentos)\n"
   ]
  },
  {
   "cell_type": "markdown",
   "id": "829b991a",
   "metadata": {},
   "source": [
    "## Probabilidades y teorias estadisticas, fuera de este dataset.\n",
    "## Probabilities and statistical theories, outside the dataset."
   ]
  },
  {
   "cell_type": "markdown",
   "id": "e2f3dd18",
   "metadata": {},
   "source": [
    "##### Probabilidad de Rainbow Gem lv3 (5,20,100)\n",
    "##### Success Rate Rainbow Gem lv3 (5,20,100)"
   ]
  },
  {
   "cell_type": "code",
   "execution_count": null,
   "id": "16ec97c3",
   "metadata": {},
   "outputs": [],
   "source": [
    "#### Primer resultado del archivo creado - intentos para 5 gema rainbow lv3\n",
    "#### First result of archive json created -  attemps for 5 gem rainbow lv3\n",
    "\n",
    "def simular_intentos():\n",
    "    intentos = 0\n",
    "    intentos_fallidos = []\n",
    "    intentos_exitosos = []\n",
    "    intentos_exitosos_gran_premio = []\n",
    "\n",
    "    while True:\n",
    "        intentos += 1\n",
    "        if random.random() >= 0.65:\n",
    "            intentos_fallidos.append(intentos)\n",
    "        else:\n",
    "            intentos_exitosos.append(intentos)\n",
    "            if random.random() <= 0.005:\n",
    "                intentos_exitosos_gran_premio.append(intentos)\n",
    "                break\n",
    "\n",
    "    return intentos_fallidos, intentos_exitosos, intentos_exitosos_gran_premio\n",
    "\n",
    "resultados = []\n",
    "num_simulaciones = 5  # Número de simulaciones a realizar\n",
    "\n",
    "for _ in range(num_simulaciones):\n",
    "    intentos_fallidos, intentos_exitosos, intentos_exitosos_gran_premio = simular_intentos()\n",
    "    resultados.append((intentos_fallidos, intentos_exitosos, intentos_exitosos_gran_premio))\n",
    "\n",
    "ruta_archivo = \"/Users/lucasmorrone/Documents/Projectos_data/Stepn_Data_project/Codigo_Probabilidad/resultados.json\"\n",
    "\n",
    "# Guardar resultados en archivo JSON en la ruta especificada\n",
    "with open(ruta_archivo, \"w\") as archivo:\n",
    "    json.dump(resultados, archivo)\n",
    "\n",
    "# Cargar resultados desde el archivo JSON\n",
    "with open(ruta_archivo, \"r\") as archivo:\n",
    "    resultados = json.load(archivo)\n",
    "\n",
    "# Obtener los conteos de intentos fallidos, intentos exitosos y intentos exitosos con gran premio\n",
    "conteos_intentos_fallidos = []\n",
    "conteos_intentos_exitosos = []\n",
    "conteos_intentos_exitosos_gran_premio = []\n",
    "\n",
    "for intentos_fallidos, intentos_exitosos, intentos_exitosos_gran_premio in resultados:\n",
    "    conteos_intentos_fallidos.extend(intentos_fallidos)\n",
    "    conteos_intentos_exitosos.extend(intentos_exitosos)\n",
    "    conteos_intentos_exitosos_gran_premio.extend(intentos_exitosos_gran_premio)\n",
    "\n",
    "# Calcular la moda y la media de los conteos de intentos fallidos\n",
    "moda_intentos_fallidos = statistics.mode(conteos_intentos_fallidos)\n",
    "media_intentos_fallidos = statistics.mean(conteos_intentos_fallidos)\n",
    "\n",
    "# Calcular la moda y la media de los conteos de intentos exitosos\n",
    "moda_intentos_exitosos = statistics.mode(conteos_intentos_exitosos)\n",
    "media_intentos_exitosos = statistics.mean(conteos_intentos_exitosos)\n",
    "\n",
    "# Calcular la moda y la media de los conteos de intentos exitosos con gran premio\n",
    "moda_intentos_exitosos_gran_premio = statistics.mode(conteos_intentos_exitosos_gran_premio)\n",
    "media_intentos_exitosos_gran_premio = statistics.mean(conteos_intentos_exitosos_gran_premio)\n",
    "\n",
    "# Calcular el número total de intentos\n",
    "total_intentos = len(conteos_intentos_fallidos) + len(conteos_intentos_exitosos)\n",
    "\n",
    "print(\"Moda de los intentos fallidos:\", moda_intentos_fallidos)\n",
    "print(\"Media de los intentos fallidos:\", media_intentos_fallidos)\n",
    "print(\"Total de los intentos fallidos:\", len(conteos_intentos_fallidos))\n",
    "\n",
    "print(\"Moda de los intentos exitosos:\", moda_intentos_exitosos)\n",
    "print(\"Media de los intentos exitosos:\", media_intentos_exitosos)\n",
    "print(\"Media de los intentos exitosos:\", len(conteos_intentos_exitosos))\n",
    "\n",
    "print(\"Moda de los intentos exitosos con gran premio:\", moda_intentos_exitosos_gran_premio)\n",
    "print(\"Media de los intentos exitosos con gran premio:\", media_intentos_exitosos_gran_premio)\n",
    "\n",
    "print(\"Total de intentos totales para 5 gemas rainbow lv3:\", total_intentos)\n"
   ]
  },
  {
   "cell_type": "code",
   "execution_count": null,
   "id": "01f584fa",
   "metadata": {},
   "outputs": [],
   "source": [
    "#### Primer resultado del archivo creado - intentos para 20 gema rainbow lv3\n",
    "#### First result of archive json created -  attemps for 20 gem rainbow lv3\n",
    "\n",
    "def simular_intentos():\n",
    "    intentos = 0\n",
    "    intentos_fallidos = []\n",
    "    intentos_exitosos = []\n",
    "    intentos_exitosos_gran_premio = []\n",
    "\n",
    "    while True:\n",
    "        intentos += 1\n",
    "        if random.random() >= 0.65:\n",
    "            intentos_fallidos.append(intentos)\n",
    "        else:\n",
    "            intentos_exitosos.append(intentos)\n",
    "            if random.random() <= 0.005:\n",
    "                intentos_exitosos_gran_premio.append(intentos)\n",
    "                break\n",
    "\n",
    "    return intentos_fallidos, intentos_exitosos, intentos_exitosos_gran_premio\n",
    "\n",
    "resultados = []\n",
    "num_simulaciones = 20  # Número de simulaciones a realizar\n",
    "\n",
    "for _ in range(num_simulaciones):\n",
    "    intentos_fallidos, intentos_exitosos, intentos_exitosos_gran_premio = simular_intentos()\n",
    "    resultados.append((intentos_fallidos, intentos_exitosos, intentos_exitosos_gran_premio))\n",
    "\n",
    "ruta_archivo = \"/Users/lucasmorrone/Documents/Projectos_data/Stepn_Data_project/Codigo_Probabilidad/resultados.json\"\n",
    "\n",
    "# Guardar resultados en archivo JSON en la ruta especificada\n",
    "with open(ruta_archivo, \"w\") as archivo:\n",
    "    json.dump(resultados, archivo)\n",
    "\n",
    "# Cargar resultados desde el archivo JSON\n",
    "with open(ruta_archivo, \"r\") as archivo:\n",
    "    resultados = json.load(archivo)\n",
    "\n",
    "# Obtener los conteos de intentos fallidos, intentos exitosos y intentos exitosos con gran premio\n",
    "conteos_intentos_fallidos = []\n",
    "conteos_intentos_exitosos = []\n",
    "conteos_intentos_exitosos_gran_premio = []\n",
    "\n",
    "for intentos_fallidos, intentos_exitosos, intentos_exitosos_gran_premio in resultados:\n",
    "    conteos_intentos_fallidos.extend(intentos_fallidos)\n",
    "    conteos_intentos_exitosos.extend(intentos_exitosos)\n",
    "    conteos_intentos_exitosos_gran_premio.extend(intentos_exitosos_gran_premio)\n",
    "\n",
    "# Calcular la moda y la media de los conteos de intentos fallidos\n",
    "moda_intentos_fallidos = statistics.mode(conteos_intentos_fallidos)\n",
    "media_intentos_fallidos = statistics.mean(conteos_intentos_fallidos)\n",
    "\n",
    "# Calcular la moda y la media de los conteos de intentos exitosos\n",
    "moda_intentos_exitosos = statistics.mode(conteos_intentos_exitosos)\n",
    "media_intentos_exitosos = statistics.mean(conteos_intentos_exitosos)\n",
    "\n",
    "# Calcular la moda y la media de los conteos de intentos exitosos con gran premio\n",
    "moda_intentos_exitosos_gran_premio = statistics.mode(conteos_intentos_exitosos_gran_premio)\n",
    "media_intentos_exitosos_gran_premio = statistics.mean(conteos_intentos_exitosos_gran_premio)\n",
    "\n",
    "# Calcular el número total de intentos\n",
    "total_intentos = len(conteos_intentos_fallidos) + len(conteos_intentos_exitosos)\n",
    "\n",
    "print(\"Moda de los intentos fallidos:\", moda_intentos_fallidos)\n",
    "print(\"Media de los intentos fallidos:\", media_intentos_fallidos)\n",
    "print(\"Total de los intentos fallidos:\", len(conteos_intentos_fallidos))\n",
    "\n",
    "print(\"Moda de los intentos exitosos:\", moda_intentos_exitosos)\n",
    "print(\"Media de los intentos exitosos:\", media_intentos_exitosos)\n",
    "print(\"Media de los intentos exitosos:\", len(conteos_intentos_exitosos))\n",
    "\n",
    "print(\"Moda de los intentos exitosos con gran premio:\", moda_intentos_exitosos_gran_premio)\n",
    "print(\"Media de los intentos exitosos con gran premio:\", media_intentos_exitosos_gran_premio)\n",
    "\n",
    "print(\"Total de intentos totales para 20 gemas rainbow lv3:\", total_intentos)\n"
   ]
  },
  {
   "cell_type": "code",
   "execution_count": null,
   "id": "9847ef37",
   "metadata": {},
   "outputs": [],
   "source": [
    "#### Primer resultado del archivo creado - intentos para 100 gema rainbow lv3\n",
    "#### First result of archive json created -  attemps for 100 gem rainbow lv3\n",
    "\n",
    "def simular_intentos():\n",
    "    intentos = 0\n",
    "    intentos_fallidos = []\n",
    "    intentos_exitosos = []\n",
    "    intentos_exitosos_gran_premio = []\n",
    "\n",
    "    while True:\n",
    "        intentos += 1\n",
    "        if random.random() >= 0.65:\n",
    "            intentos_fallidos.append(intentos)\n",
    "        else:\n",
    "            intentos_exitosos.append(intentos)\n",
    "            if random.random() <= 0.005:\n",
    "                intentos_exitosos_gran_premio.append(intentos)\n",
    "                break\n",
    "\n",
    "    return intentos_fallidos, intentos_exitosos, intentos_exitosos_gran_premio\n",
    "\n",
    "resultados = []\n",
    "num_simulaciones = 100  # Número de simulaciones a realizar\n",
    "\n",
    "for _ in range(num_simulaciones):\n",
    "    intentos_fallidos, intentos_exitosos, intentos_exitosos_gran_premio = simular_intentos()\n",
    "    resultados.append((intentos_fallidos, intentos_exitosos, intentos_exitosos_gran_premio))\n",
    "\n",
    "ruta_archivo = \"/Users/lucasmorrone/Documents/Projectos_data/Stepn_Data_project/Codigo_Probabilidad/resultados.json\"\n",
    "\n",
    "# Guardar resultados en archivo JSON en la ruta especificada\n",
    "with open(ruta_archivo, \"w\") as archivo:\n",
    "    json.dump(resultados, archivo)\n",
    "\n",
    "# Cargar resultados desde el archivo JSON\n",
    "with open(ruta_archivo, \"r\") as archivo:\n",
    "    resultados = json.load(archivo)\n",
    "\n",
    "# Obtener los conteos de intentos fallidos, intentos exitosos y intentos exitosos con gran premio\n",
    "conteos_intentos_fallidos = []\n",
    "conteos_intentos_exitosos = []\n",
    "conteos_intentos_exitosos_gran_premio = []\n",
    "\n",
    "for intentos_fallidos, intentos_exitosos, intentos_exitosos_gran_premio in resultados:\n",
    "    conteos_intentos_fallidos.extend(intentos_fallidos)\n",
    "    conteos_intentos_exitosos.extend(intentos_exitosos)\n",
    "    conteos_intentos_exitosos_gran_premio.extend(intentos_exitosos_gran_premio)\n",
    "\n",
    "# Calcular la moda y la media de los conteos de intentos fallidos\n",
    "moda_intentos_fallidos = statistics.mode(conteos_intentos_fallidos)\n",
    "media_intentos_fallidos = statistics.mean(conteos_intentos_fallidos)\n",
    "\n",
    "# Calcular la moda y la media de los conteos de intentos exitosos\n",
    "moda_intentos_exitosos = statistics.mode(conteos_intentos_exitosos)\n",
    "media_intentos_exitosos = statistics.mean(conteos_intentos_exitosos)\n",
    "\n",
    "# Calcular la moda y la media de los conteos de intentos exitosos con gran premio\n",
    "moda_intentos_exitosos_gran_premio = statistics.mode(conteos_intentos_exitosos_gran_premio)\n",
    "media_intentos_exitosos_gran_premio = statistics.mean(conteos_intentos_exitosos_gran_premio)\n",
    "\n",
    "# Calcular el número total de intentos\n",
    "total_intentos = len(conteos_intentos_fallidos) + len(conteos_intentos_exitosos)\n",
    "\n",
    "print(\"Moda de los intentos fallidos:\", moda_intentos_fallidos)\n",
    "print(\"Media de los intentos fallidos:\", media_intentos_fallidos)\n",
    "print(\"Total de los intentos fallidos:\", len(conteos_intentos_fallidos))\n",
    "\n",
    "print(\"Moda de los intentos exitosos:\", moda_intentos_exitosos)\n",
    "print(\"Media de los intentos exitosos:\", media_intentos_exitosos)\n",
    "print(\"Media de los intentos exitosos:\", len(conteos_intentos_exitosos))\n",
    "\n",
    "print(\"Moda de los intentos exitosos con gran premio:\", moda_intentos_exitosos_gran_premio)\n",
    "print(\"Media de los intentos exitosos con gran premio:\", media_intentos_exitosos_gran_premio)\n",
    "\n",
    "print(\"Total de intentos totales para 100 gemas rainbow lv3:\", total_intentos)\n"
   ]
  },
  {
   "cell_type": "code",
   "execution_count": null,
   "id": "1effc3f8",
   "metadata": {},
   "outputs": [],
   "source": [
    "# Bonanza event, suponiendo que el raffle total es de 25 (2500gmt) en la categoria mayor. 75 (625) para segundo premio \n",
    "# 150 (200gmt) para el tercer premio\n",
    "\n",
    "# Definir el número de ganadores y el número total de participantes\n",
    "\n",
    "\n",
    "N_totaldeparticipantes = 1000\n",
    "\n",
    "participantes_elite = N_totaldeparticipantes * 1 /100\n",
    "\n",
    "participantes_pro = N_totaldeparticipantes * 10 /100\n",
    "\n",
    "participantes_normales = N_totaldeparticipantes * 80 /100\n",
    "\n",
    "participantes_newbies = N_totaldeparticipantes * 9 /100\n",
    "\n",
    "num_ganadores3erpremio = 150\n",
    "num_participantes3erpremio = N_totaldeparticipantes\n",
    "\n",
    "num_ganadores2dopremio = 75\n",
    "num_participantes2dopremio = participantes_pro + participantes_elite + participantes_normales \n",
    "\n",
    "num_ganadores1erpremio = 25\n",
    "num_participantes1erpremio = participantes_pro + participantes_elite\n",
    "\n",
    "\n",
    "\n",
    "# Calcular el porcentaje de éxito\n",
    "\n",
    "porcentaje_exito3erpremio = (num_ganadores3erpremio / num_participantes3erpremio) * 100\n",
    "porcentaje_exito2dopremio = (num_ganadores2dopremio / num_participantes2dopremio) * 100\n",
    "porcentaje_exito1premio = (num_ganadores1erpremio / num_participantes1erpremio) * 100\n",
    "\n",
    "\n",
    "\n",
    "# Imprimir el resultado primario\n",
    "print(f\"El porcentaje de éxito 1er premio es del {porcentaje_exito1premio:}%\")\n",
    "print(f\"El porcentaje de éxito 2do premio es del {porcentaje_exito2dopremio:}%\")\n",
    "print(f\"El porcentaje de éxito 3er premio es del {porcentaje_exito3erpremio:}%\")\n",
    "\n"
   ]
  },
  {
   "cell_type": "code",
   "execution_count": null,
   "id": "e12ec7ed",
   "metadata": {},
   "outputs": [],
   "source": [
    "# Bonus track /  Badges adventages \n",
    "\n",
    "# Tenemos un estimado que dentro de los participantes del evento, hay ventajas dependiendo sus badges/insignias.\n",
    "\n",
    "# Se estima que el 20% de tiene 0,5x de obtener algun premio.\n",
    "# Se estima que el 80% de tiene 1x de obtener algun premio.\n",
    "# Se estima que el 10% tiene 2x de obtener algun premio\n",
    "# Se estima que el 1% tiene 3x de obtener algun premio.\n",
    "\n",
    "\n",
    "# Creemos que dentro del 3er premio y 2do premio, estarian los participantes todos los participantes\n",
    "\n",
    "# Creemos que dentro del 2do premio y 1er premio, estarian los participantes x2 y x3\n",
    "\n",
    "\n",
    "#Participantes con la posibilidad triple de ganar ;\n",
    "\n",
    "# participantes_elite\n",
    "\n",
    "#Participantes con la posibilidad doble de ganar ;\n",
    "\n",
    "# participantes_pro\n",
    "\n",
    "#Participantes con la posibilidad base de ganar ;\n",
    "\n",
    "# participantes_normales\n",
    "\n",
    "#Participantes con la mitad de posibilidad de ganar ;\n",
    "\n",
    "# participantes_newbies\n",
    "\n"
   ]
  },
  {
   "cell_type": "code",
   "execution_count": null,
   "id": "069771b2",
   "metadata": {},
   "outputs": [],
   "source": [
    "# Elite 11 badges\n",
    "Porcentaje_primerpremio_elitejugadores = porcentaje_exito1premio * 1.5\n",
    "\n",
    "Porcentaje_segundorpremio_elitejugadores = (num_ganadores2dopremio / participantes_normales  * 3) * 100\n",
    "\n",
    "Porcentaje_tercer_elitejugadores = (num_ganadores3erpremio / participantes_normales  * 3) * 100 \n",
    "\n",
    "\n",
    "# PRO 8>= badges\n",
    "Porcentaje_primerpremio_PROjugadores = porcentaje_exito1premio \n",
    "\n",
    "Porcentaje_segundorpremio_PROjugadores = (num_ganadores2dopremio / participantes_normales  * 2) * 100\n",
    "\n",
    "Porcentaje_tercerpremio_PROjugadores = (num_ganadores3erpremio / participantes_normales  * 2) * 100\n",
    "\n",
    "\n",
    "# Normales 5>= badges\n",
    "\n",
    "Porcentaje_segundorpremio_jugadoresnormales = (num_ganadores2dopremio / participantes_normales ) * 100\n",
    "\n",
    "Porcentaje_tercerpremio_jugadoresnormales = (num_ganadores3erpremio / participantes_normales ) * 100\n",
    "\n",
    "# Newbies <5 badges\n",
    "\n",
    "Porcentaje_segundorpremio_jugadoresnewbies = (num_ganadores2dopremio / participantes_normales / 2 ) * 100\n",
    "\n",
    "Porcentaje_tercerpremio_jugadoresnewbies = (num_ganadores3erpremio / participantes_normales / 2 ) * 100\n",
    "\n",
    "\n",
    "# Porcentaje de los jugadores Elite de ganar premios\n",
    "\n",
    "print(f\"Posibilidad de participantes Elite de ganar 1er premio es de: {Porcentaje_primerpremio_elitejugadores:}%\")\n",
    "print(f\"Posibilidad de participantes Elite de ganar 2do premio es de: {Porcentaje_segundorpremio_elitejugadores:}%\")\n",
    "print(f\"Posibilidad de participantes Elite de ganar 3er premio es de: {Porcentaje_tercer_elitejugadores:}%\")\n",
    "\n",
    "\n",
    "# Porcentaje de los jugadores PRO de ganar premios\n",
    "\n",
    "print(f\"Posibilidad de participantes PRO de ganar 1er premio es de: {Porcentaje_primerpremio_PROjugadores:}%\")\n",
    "print(f\"Posibilidad de participantes PRO de ganar 2do premio es de: {Porcentaje_segundorpremio_PROjugadores:}%\")\n",
    "print(f\"Posibilidad de participantes PRO de ganar 3er premio es de: {Porcentaje_tercerpremio_PROjugadores:}%\")\n",
    "\n",
    "# Porcentaje de los jugadores normales de ganar premios\n",
    "\n",
    "print(f\"Posibilidad de participantes normales de ganar 2do premio es de: {Porcentaje_segundorpremio_jugadoresnormales:}%\")\n",
    "print(f\"Posibilidad de participantes normales de ganar 3er premio es de: {Porcentaje_tercerpremio_jugadoresnormales:}%\")\n",
    "\n",
    "# Porcentaje de los jugadores newbies de ganar premios\n",
    "\n",
    "print(f\"Posibilidad de participantes newbies de ganar 2do premio es de: {Porcentaje_segundorpremio_jugadoresnewbies:}%\")\n",
    "print(f\"Posibilidad de participantes newbies de ganar 3er premio es de: {Porcentaje_tercerpremio_jugadoresnewbies:}%\")\n"
   ]
  },
  {
   "cell_type": "code",
   "execution_count": null,
   "id": "cf815b48",
   "metadata": {},
   "outputs": [],
   "source": []
  },
  {
   "cell_type": "code",
   "execution_count": null,
   "id": "942fc3f6",
   "metadata": {},
   "outputs": [],
   "source": []
  },
  {
   "cell_type": "code",
   "execution_count": null,
   "id": "be3f10e5",
   "metadata": {},
   "outputs": [],
   "source": []
  }
 ],
 "metadata": {
  "kernelspec": {
   "display_name": "Python 3 (ipykernel)",
   "language": "python",
   "name": "python3"
  },
  "language_info": {
   "codemirror_mode": {
    "name": "ipython",
    "version": 3
   },
   "file_extension": ".py",
   "mimetype": "text/x-python",
   "name": "python",
   "nbconvert_exporter": "python",
   "pygments_lexer": "ipython3",
   "version": "3.9.13"
  }
 },
 "nbformat": 4,
 "nbformat_minor": 5
}
