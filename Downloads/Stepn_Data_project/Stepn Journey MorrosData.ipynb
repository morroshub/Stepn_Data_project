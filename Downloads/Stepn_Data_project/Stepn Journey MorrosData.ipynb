{
 "cells": [
  {
   "cell_type": "markdown",
   "id": "69eae91b",
   "metadata": {},
   "source": [
    "## Importacion de librerias / library charges "
   ]
  },
  {
   "cell_type": "code",
   "execution_count": 1,
   "id": "7c090e74",
   "metadata": {},
   "outputs": [],
   "source": [
    "# En la documentacion de este notebook podra obtener el detalle de cada columna y procesos hechos aqui.\n",
    "# Document of this notebook can help you to understand all columns and process do here  "
   ]
  },
  {
   "cell_type": "code",
   "execution_count": 2,
   "id": "905bda8e",
   "metadata": {},
   "outputs": [],
   "source": [
    "import pandas as pd\n",
    "import numpy as np\n",
    "import matplotlib.pyplot as plt\n",
    "import seaborn as sns\n",
    "import sqlite3\n",
    "import pymongo\n"
   ]
  },
  {
   "cell_type": "markdown",
   "id": "f56616d6",
   "metadata": {},
   "source": [
    "#### Carga de de archivo .CSV / Load CSV file "
   ]
  },
  {
   "cell_type": "code",
   "execution_count": 3,
   "id": "edadc161",
   "metadata": {},
   "outputs": [],
   "source": [
    "data = pd.read_csv('Corridas Stepn - SolanaRealm.csv')\n"
   ]
  },
  {
   "cell_type": "code",
   "execution_count": 4,
   "id": "8ea2d77a",
   "metadata": {},
   "outputs": [
    {
     "name": "stdout",
     "output_type": "stream",
     "text": [
      "<class 'pandas.core.frame.DataFrame'>\n",
      "RangeIndex: 448 entries, 0 to 447\n",
      "Data columns (total 41 columns):\n",
      " #   Column                    Non-Null Count  Dtype  \n",
      "---  ------                    --------------  -----  \n",
      " 0   energias                  376 non-null    float64\n",
      " 1   ZAPA                      376 non-null    object \n",
      " 2   Gst ganado                281 non-null    float64\n",
      " 3   Arreglo Gst               374 non-null    float64\n",
      " 4   Coste de caja gst         118 non-null    float64\n",
      " 5   GMT                       102 non-null    float64\n",
      " 6   Total GST                 376 non-null    float64\n",
      " 7   Caja mb                   376 non-null    object \n",
      " 8   HP%                       355 non-null    float64\n",
      " 9   Obtencion caja            118 non-null    object \n",
      " 10  Upgrades                  313 non-null    float64\n",
      " 11  TOTAL FECHA GST           375 non-null    float64\n",
      " 12  TOTAL USDT FECHA          115 non-null    float64\n",
      " 13  Fecha                     376 non-null    object \n",
      " 14  Aclaraciones de Upgrades  422 non-null    object \n",
      " 15  Success LV1               174 non-null    object \n",
      " 16  Success LV2               103 non-null    object \n",
      " 17  Success LV3               145 non-null    object \n",
      " 18  Success LV4               5 non-null      object \n",
      " 19  JUGADOR                   441 non-null    object \n",
      " 20  Unnamed: 20               2 non-null      object \n",
      " 21  Gem Stock                 23 non-null     object \n",
      " 22  LV1                       52 non-null     object \n",
      " 23  LV2                       58 non-null     object \n",
      " 24  LV3                       47 non-null     object \n",
      " 25  LV4                       45 non-null     object \n",
      " 26  LV5                       45 non-null     object \n",
      " 27  LV6                       28 non-null     object \n",
      " 28  LV7                       45 non-null     object \n",
      " 29  LV8                       30 non-null     object \n",
      " 30  LV9                       26 non-null     object \n",
      " 31  Unnamed: 31               29 non-null     object \n",
      " 32  Unnamed: 32               21 non-null     object \n",
      " 33  Unnamed: 33               42 non-null     object \n",
      " 34  MBS                       39 non-null     object \n",
      " 35  Ganancia Bruta            52 non-null     object \n",
      " 36  Gst cost                  47 non-null     object \n",
      " 37  Gst usd                   59 non-null     object \n",
      " 38  Ganancia Total            45 non-null     object \n",
      " 39  Mes                       30 non-null     object \n",
      " 40  Unnamed: 40               7 non-null      object \n",
      "dtypes: float64(10), object(31)\n",
      "memory usage: 143.6+ KB\n"
     ]
    }
   ],
   "source": [
    "data.info()"
   ]
  },
  {
   "cell_type": "code",
   "execution_count": 5,
   "id": "28b4fa60",
   "metadata": {},
   "outputs": [
    {
     "name": "stdout",
     "output_type": "stream",
     "text": [
      "<class 'pandas.core.series.Series'>\n",
      "Index: 265 entries, 11/5/23 to 2/7/23\n",
      "Series name: Fecha\n",
      "Non-Null Count  Dtype\n",
      "--------------  -----\n",
      "265 non-null    int64\n",
      "dtypes: int64(1)\n",
      "memory usage: 4.1+ KB\n"
     ]
    }
   ],
   "source": [
    "# Dias de movimiento\n",
    "# Days of running\n",
    "\n",
    "daysactive = data['Fecha'].value_counts()\n",
    "daysactive.info()\n"
   ]
  },
  {
   "cell_type": "code",
   "execution_count": 6,
   "id": "5ec7d35c",
   "metadata": {},
   "outputs": [],
   "source": [
    "# Realizamos una limpieza para quedarnos con las columnas competentes para este notebook \n",
    "# Delete some colummns of csv for this notebook project "
   ]
  },
  {
   "cell_type": "code",
   "execution_count": 7,
   "id": "2dd6ab62",
   "metadata": {},
   "outputs": [],
   "source": [
    "data = data.drop(data.columns[20:], axis=1)"
   ]
  },
  {
   "cell_type": "code",
   "execution_count": 8,
   "id": "1af35a13",
   "metadata": {},
   "outputs": [
    {
     "name": "stdout",
     "output_type": "stream",
     "text": [
      "<class 'pandas.core.frame.DataFrame'>\n",
      "RangeIndex: 448 entries, 0 to 447\n",
      "Data columns (total 20 columns):\n",
      " #   Column                    Non-Null Count  Dtype  \n",
      "---  ------                    --------------  -----  \n",
      " 0   energias                  376 non-null    float64\n",
      " 1   ZAPA                      376 non-null    object \n",
      " 2   Gst ganado                281 non-null    float64\n",
      " 3   Arreglo Gst               374 non-null    float64\n",
      " 4   Coste de caja gst         118 non-null    float64\n",
      " 5   GMT                       102 non-null    float64\n",
      " 6   Total GST                 376 non-null    float64\n",
      " 7   Caja mb                   376 non-null    object \n",
      " 8   HP%                       355 non-null    float64\n",
      " 9   Obtencion caja            118 non-null    object \n",
      " 10  Upgrades                  313 non-null    float64\n",
      " 11  TOTAL FECHA GST           375 non-null    float64\n",
      " 12  TOTAL USDT FECHA          115 non-null    float64\n",
      " 13  Fecha                     376 non-null    object \n",
      " 14  Aclaraciones de Upgrades  422 non-null    object \n",
      " 15  Success LV1               174 non-null    object \n",
      " 16  Success LV2               103 non-null    object \n",
      " 17  Success LV3               145 non-null    object \n",
      " 18  Success LV4               5 non-null      object \n",
      " 19  JUGADOR                   441 non-null    object \n",
      "dtypes: float64(10), object(10)\n",
      "memory usage: 70.1+ KB\n"
     ]
    }
   ],
   "source": [
    "data.info()"
   ]
  },
  {
   "cell_type": "code",
   "execution_count": 9,
   "id": "f172a9b3",
   "metadata": {},
   "outputs": [
    {
     "name": "stdout",
     "output_type": "stream",
     "text": [
      "El total de energias usadas es de 4685.1\n"
     ]
    }
   ],
   "source": [
    "# Cuantas energias se usaron?\n",
    "# How many energy used?\n",
    "\n",
    "sum_total_energy = data['energias'].sum()\n",
    "\n",
    "print(f'El total de energias usadas es de {sum_total_energy}')\n",
    "\n"
   ]
  },
  {
   "cell_type": "code",
   "execution_count": 10,
   "id": "840a9e0b",
   "metadata": {},
   "outputs": [],
   "source": [
    "# Cuantos zapatillas tiene activas esta cuenta?\n",
    "# How many sneakers have active this account?"
   ]
  },
  {
   "cell_type": "code",
   "execution_count": 11,
   "id": "7dca6eb0",
   "metadata": {},
   "outputs": [
    {
     "data": {
      "text/plain": [
       "array(['WL-925 ', 'WEG-579', 'WL-925', 'WEGMT-889', 'UNC-WL-432',\n",
       "       'UNC-WEG-168', 'RAREMHTE-020', 'RARE-WL-1041', 'UNCO-WG-2524',\n",
       "       'C-T-946', 'UNCJG-ER-269', 'TEO -638', nan], dtype=object)"
      ]
     },
     "execution_count": 11,
     "metadata": {},
     "output_type": "execute_result"
    }
   ],
   "source": [
    "sneakers = data['ZAPA'].unique()\n",
    "sneakers"
   ]
  },
  {
   "cell_type": "code",
   "execution_count": 12,
   "id": "1325392e",
   "metadata": {},
   "outputs": [
    {
     "name": "stdout",
     "output_type": "stream",
     "text": [
      "Total es 1324.68\n",
      "Total is 1324.68\n"
     ]
    }
   ],
   "source": [
    "# Vamos a remplazar todos los valores 'null' en 0, dado el caracter especifico de esta columna.\n",
    "# Replace all 'null' data for 0 for context in this column.\n",
    "\n",
    "data['TOTAL USDT FECHA'] = data['TOTAL USDT FECHA'].fillna(0)\n",
    "\n",
    "# Sumamos los valores para saber cual es el total de USDT generados en esta cuenta.\n",
    "# Sum all values for now how much USDT make this account.\n",
    "\n",
    "sum_total_usdt = data['TOTAL USDT FECHA'].sum()\n",
    "\n",
    "# TOTAL \n",
    "\n",
    "print(f'Total es {sum_total_usdt}')\n",
    "print(f'Total is {sum_total_usdt}')\n",
    "\n"
   ]
  },
  {
   "cell_type": "markdown",
   "id": "710c541e",
   "metadata": {},
   "source": [
    "### Minado de monedas\n",
    "### CoinMaker"
   ]
  },
  {
   "cell_type": "code",
   "execution_count": 13,
   "id": "ea51ff66",
   "metadata": {},
   "outputs": [
    {
     "name": "stdout",
     "output_type": "stream",
     "text": [
      "El total de GMT minado es 1002.6800000000001\n",
      "El total de GMT minado es 53817.08\n"
     ]
    }
   ],
   "source": [
    "data['GMT'] = data['GMT'].fillna(0)\n",
    "sum_total_gmt = data['GMT'].sum()\n",
    "\n",
    "print(f'El total de GMT minado es {sum_total_gmt}')\n",
    "\n",
    "\n",
    "data['Gst ganado'] = data['Gst ganado'].fillna(0)\n",
    "sum_total_gst = data['Gst ganado'].sum()\n",
    "\n",
    "print(f'El total de GMT minado es {sum_total_gst}')\n",
    "\n"
   ]
  },
  {
   "cell_type": "code",
   "execution_count": 14,
   "id": "cb9d75b7",
   "metadata": {},
   "outputs": [
    {
     "name": "stdout",
     "output_type": "stream",
     "text": [
      "Energias usadas para el gmt minning 1050.4\n",
      "Energias usadas para el gst minning 3523.1\n",
      "Total de energias  4573.5\n",
      "Porcentaje de gst minado 0.7703290696403192\n",
      "«Porcentaje de gmt minado 0.22967093035968078\n"
     ]
    }
   ],
   "source": [
    "# Cuantas energias se usaron para minar GMT y GST?\n",
    "# How many energys used for minning GMT y GST?\n",
    "\n",
    "# Sabemos que hay 2 sneakers historicas que han realizado GMT minning como uso , las de mas son para Gst\n",
    "# We kmow only 2 sneakers can earned Gmt, else are only for GST.\n",
    "\n",
    "#Zapatillas GMT ;\n",
    "# WEGMT-889 - RARE-WL-1041\n",
    "\n",
    "energias_gmt = data.loc[data['ZAPA'].isin(['RARE-WL-1041', 'WEGMT-889']), 'energias']\n",
    "energiassum_gmt = energias_gmt.sum()\n",
    "\n",
    "\n",
    "print(f'Energias usadas para el gmt minning {energiassum_gmt}')\n",
    "\n",
    "\n",
    "#Zapatillas GST ;\n",
    "# WL-925 ', 'WEG-579', 'WL-925', 'UNC-WL-432',\n",
    "#'UNC-WEG-168', 'RAREMHTE-020', 'UNCO-WG-2524',\n",
    "#'C-T-946', 'UNCJG-ER-269', 'TEO -638'\n",
    "        \n",
    "        \n",
    "energias_gst = data.loc[data['ZAPA'].isin(['WEG-579','UNC-WL-432','C-T-946', 'UNCJG-ER-269','UNCO-WG-2524','RAREMHTE-020','UNC-WEG-168','WL-925']), 'energias']\n",
    "energiassum_gst = energias_gst.sum()\n",
    "print(f'Energias usadas para el gst minning {energiassum_gst}')\n",
    "\n",
    "# Porcentaje de minado en energias\n",
    "# Distruibuited energys for minning\n",
    "\n",
    "#total de energias \n",
    "total_energys = energiassum_gst + energiassum_gmt\n",
    "print(f'Total de energias  {total_energys}')\n",
    "\n",
    "#porcentaje energia/gst \n",
    "porcengst = energiassum_gst/total_energys\n",
    "\n",
    "print(f'Porcentaje de gst minado {porcengst}')\n",
    "\n",
    "#porcentaje energia/gmt \n",
    "porcengmt = energiassum_gmt/total_energys\n",
    "print(f'«Porcentaje de gmt minado {porcengmt}')\n"
   ]
  },
  {
   "cell_type": "code",
   "execution_count": 15,
   "id": "6b212dfc",
   "metadata": {},
   "outputs": [
    {
     "data": {
      "image/png": "[encoded data removed]",
      "text/plain": [
       "<Figure size 640x480 with 1 Axes>"
      ]
     },
     "metadata": {},
     "output_type": "display_data"
    }
   ],
   "source": [
    "# Creamos un grafico de torta donde podemos ver los earning hechos a escala por energia\n",
    "# Making a cake graphic for  showed earned at scale per energy\n",
    "\n",
    "# Datos de ejemplo\n",
    "labels = ['GMT', 'Gst']\n",
    "values = [23, 77]\n",
    "colors = ['yellow', 'red']\n",
    "\n",
    "# Crear el gráfico de torta\n",
    "plt.pie(values, labels=labels, colors=colors, autopct='%1.1f%%')\n",
    "\n",
    "# Coin maker results\n",
    "plt.title('Coinmaker / Energy distruibuited')\n",
    "\n",
    "# Mostrar el gráfico\n",
    "plt.show()\n"
   ]
  },
  {
   "cell_type": "code",
   "execution_count": 16,
   "id": "de5137e0",
   "metadata": {},
   "outputs": [
    {
     "name": "stdout",
     "output_type": "stream",
     "text": [
      "El total de gst quemado es por cajas es 34509.0\n",
      "Total for mbs opened 34509.0\n",
      "El total de gst quemado por reparaciones es 4073.2599999999993\n",
      "Total for repair sneakers 4073.2599999999993\n",
      "El total de gst quemado por actualizaciones de gemas 32450.0\n",
      "Total for gems upgrades 32450.0\n"
     ]
    }
   ],
   "source": [
    "# Debemos de restar los gastos en reparaciones de zapatillas, costos de apertura de cajas, actualizaciones de gemas\n",
    "# Have to consider and discount repair sneakers, opened boxes fee and gems upgrades\n",
    "\n",
    "\n",
    "## Gst quemado para mbs \n",
    "## Gst burned for mbs\n",
    "\n",
    "data['Coste de caja gst'] = data['Coste de caja gst'].fillna(0)\n",
    "burnedgst_mb = data['Coste de caja gst'].sum()\n",
    "print(f'El total de gst quemado es por cajas es {burnedgst_mb}')\n",
    "print(f'Total for mbs opened {burnedgst_mb}')\n",
    "\n",
    "\n",
    "## Gst quemado para reparaciones  \n",
    "## Gst burned for repair sneakers \n",
    "\n",
    "data['Arreglo Gst'] = data['Arreglo Gst'].fillna(0)\n",
    "repaircostgst = data['Arreglo Gst'].sum()\n",
    "print(f'El total de gst quemado por reparaciones es {repaircostgst}')\n",
    "print(f'Total for repair sneakers {repaircostgst}')\n",
    "\n",
    "\n",
    "## Gst quemado para actualizaciones \n",
    "## Gst burned for upgrades \n",
    "\n",
    "data['Upgrades'] = data['Upgrades'].fillna(0)\n",
    "upgradesgst = data['Upgrades'].sum()\n",
    "print(f'El total de gst quemado por actualizaciones de gemas {upgradesgst}')\n",
    "print(f'Total for gems upgrades {upgradesgst}')"
   ]
  },
  {
   "cell_type": "markdown",
   "id": "941f926d",
   "metadata": {},
   "source": [
    "### Analisis de intentos y tasa de exito en actualizaciones de gemas\n",
    "### Attempts analysis and success rate of upgraded gems"
   ]
  },
  {
   "cell_type": "code",
   "execution_count": null,
   "id": "789d7b5e",
   "metadata": {},
   "outputs": [],
   "source": []
  },
  {
   "cell_type": "code",
   "execution_count": 17,
   "id": "ac013b5e",
   "metadata": {},
   "outputs": [
    {
     "name": "stdout",
     "output_type": "stream",
     "text": [
      "Cantidad de datos en lv1 NO     116\n",
      "YES     58\n",
      "Name: Success LV1, dtype: int64\n",
      "Cantidad de datos en lv2 YES    52\n",
      "NO     51\n",
      "Name: Success LV2, dtype: int64\n",
      "Cantidad de datos en lv3 YES    95\n",
      "NO     50\n",
      "Name: Success LV3, dtype: int64\n",
      "Cantidad de datos en lv4 YES    4\n",
      "NO     1\n",
      "Name: Success LV4, dtype: int64\n"
     ]
    }
   ],
   "source": [
    "# Creamos un conteo de tasa de exito en los upgrades de los distintos niveles.\n",
    "# Make counter for success rate in upgrades of all levels.\n",
    "\n",
    "conteolv1 = data['Success LV1'].value_counts()\n",
    "conteolv2 = data['Success LV2'].value_counts()\n",
    "conteolv3 = data['Success LV3'].value_counts()\n",
    "conteolv4 = data['Success LV4'].value_counts()\n",
    "\n",
    "\n",
    "print(f'Cantidad de datos en lv1 {conteolv1}')\n",
    "print(f'Cantidad de datos en lv2 {conteolv2}')\n",
    "print(f'Cantidad de datos en lv3 {conteolv3}')\n",
    "print(f'Cantidad de datos en lv4 {conteolv4}')\n",
    "\n",
    "\n",
    "\n"
   ]
  },
  {
   "cell_type": "code",
   "execution_count": 18,
   "id": "18d99fa1",
   "metadata": {},
   "outputs": [
    {
     "name": "stdout",
     "output_type": "stream",
     "text": [
      "tasa exito % 33.33333333333333\n",
      "success rate % 33.33333333333333\n",
      "tasa exito % 50.48543689320388\n",
      "success rate % 50.48543689320388\n",
      "tasa exito % 65.51724137931035\n",
      "success rate % 65.51724137931035\n",
      "tasa exito % 80.0\n",
      "success rate % 80.0\n"
     ]
    }
   ],
   "source": [
    "# Mostrar porcentajes tasa\n",
    "# Show porcentual rate\n",
    "\n",
    "#lv1\n",
    "total_yeslv1 = conteolv1['YES']\n",
    "total_nolv1 = conteolv1['NO']\n",
    "\n",
    "ratelv1 = (total_yeslv1 / (total_yeslv1 + total_nolv1)) * 100\n",
    "\n",
    "print(f'tasa exito % {ratelv1}')\n",
    "print(f'success rate % {ratelv1}')\n",
    "\n",
    "\n",
    "\n",
    "#lv2\n",
    "total_yeslv2 = conteolv2['YES']\n",
    "total_nolv2 = conteolv2['NO']\n",
    "\n",
    "ratelv2 = (total_yeslv2 / (total_yeslv2 + total_nolv2)) * 100\n",
    "\n",
    "print(f'tasa exito % {ratelv2}')\n",
    "print(f'success rate % {ratelv2}')\n",
    "\n",
    "\n",
    "\n",
    "#lv3\n",
    "total_yeslv3 = conteolv3['YES']\n",
    "total_nolv3 = conteolv3['NO']\n",
    "\n",
    "ratelv3 = (total_yeslv3 / (total_yeslv3 + total_nolv3)) * 100\n",
    "\n",
    "print(f'tasa exito % {ratelv3}')\n",
    "print(f'success rate % {ratelv3}')\n",
    "\n",
    "\n",
    "\n",
    "#lv4\n",
    "total_yeslv4 = conteolv4['YES']\n",
    "total_nolv4 = conteolv4['NO']\n",
    "\n",
    "ratelv4 = (total_yeslv4 / (total_yeslv4 + total_nolv4)) * 100\n",
    "\n",
    "print(f'tasa exito % {ratelv4}')\n",
    "print(f'success rate % {ratelv4}')\n"
   ]
  },
  {
   "cell_type": "markdown",
   "id": "4fd8caad",
   "metadata": {},
   "source": [
    "#### Interactuando con NOsql"
   ]
  },
  {
   "cell_type": "code",
   "execution_count": 19,
   "id": "828bf0b9",
   "metadata": {},
   "outputs": [],
   "source": [
    "from pymongo import MongoClient\n",
    "Stepnosql = MongoClient()"
   ]
  },
  {
   "cell_type": "code",
   "execution_count": 20,
   "id": "5442f53e",
   "metadata": {},
   "outputs": [],
   "source": [
    "# Creando una base de datos \n",
    "# Create data base \n",
    "\n",
    "db = Stepnosql[\"DBSJM\"]\n",
    "\n",
    "# Creando una coleccion\n",
    "# Create coleccion \n",
    "\n",
    "\n",
    "sneakers = db[\"sneakers\"]\n",
    "\n"
   ]
  },
  {
   "cell_type": "code",
   "execution_count": 21,
   "id": "3aa33f2a",
   "metadata": {},
   "outputs": [
    {
     "data": {
      "text/plain": [
       "<pymongo.results.InsertOneResult at 0x7fa948078100>"
      ]
     },
     "execution_count": 21,
     "metadata": {},
     "output_type": "execute_result"
    }
   ],
   "source": [
    "# Commons\n",
    "sneakers.insert_one({\"Rarity\": \"Common\", \"Type\": \"Walker\", \"Code\": \"WL-925\"})\n",
    "sneakers.insert_one({\"Rarity\": \"Common\", \"Type\": \"Jogger\", \"Code\": \"valor2\"})\n",
    "sneakers.insert_one({\"Rarity\": \"Common\", \"Type\": \"Runner\", \"Code\": \"valor3\"})\n",
    "sneakers.insert_one({\"Rarity\": \"Common\", \"Type\": \"Trainer\", \"Code\": \"C-T-946\"})\n",
    "\n",
    "# Uncommons\n",
    "sneakers.insert_one({\"Rarity\": \"Uncommon\", \"Type\": \"Walker\", \"Code\": \"WEGMT-889\"})\n",
    "sneakers.insert_one({\"Rarity\": \"Uncommon\", \"Type\": \"Walker\", \"Code\": \"WEG-579\"})\n",
    "sneakers.insert_one({\"Rarity\": \"Uncommon\", \"Type\": \"Walker\", \"Code\": \"UNC-WL-432\"})\n",
    "sneakers.insert_one({\"Rarity\": \"Uncommon\", \"Type\": \"Walker\", \"Code\": \"UNC-WEG-168\"})\n",
    "sneakers.insert_one({\"Rarity\": \"Uncommon\", \"Type\": \"Walker\", \"Code\": \"UNCO-WG-2524\"})\n",
    "sneakers.insert_one({\"Rarity\": \"Uncommon\", \"Type\": \"Jogger\", \"Code\": \"UNCJG-ER-269\"})\n",
    "\n",
    "\n",
    "# Rare\n",
    "sneakers.insert_one({\"Rarity\": \"Rare\", \"Type\": \"Walker\", \"Code\": \"RARE-WL-1041\"})\n",
    "sneakers.insert_one({\"Rarity\": \"Rare\", \"Type\": \"Jogger\", \"Code\": \"RAREMHTE-020\"})\n",
    "sneakers.insert_one({\"Rarity\": \"Rare\", \"Type\": \"Runner\", \"Code\": \"valor3\"})\n",
    "sneakers.insert_one({\"Rarity\": \"Rare\", \"Type\": \"Trainer\", \"Code\": \"valor4\"})\n",
    "\n",
    "# Epic\n",
    "sneakers.insert_one({\"Rarity\": \"Epic\", \"Type\": \"Walker\", \"Code\": \"WL-925\"})\n",
    "sneakers.insert_one({\"Rarity\": \"Epic\", \"Type\": \"Jogger\", \"Code\": \"valor2\"})\n",
    "sneakers.insert_one({\"Rarity\": \"Epic\", \"Type\": \"Runner\", \"Code\": \"valor3\"})\n",
    "sneakers.insert_one({\"Rarity\": \"Epic\", \"Type\": \"Trainer\", \"Code\": \"valor4\"})\n"
   ]
  },
  {
   "cell_type": "code",
   "execution_count": 22,
   "id": "c50c94e6",
   "metadata": {},
   "outputs": [
    {
     "name": "stdout",
     "output_type": "stream",
     "text": [
      "{'_id': ObjectId('64a20f1deca521ebb9382e08'), 'Rarity': 'Common', 'Type': 'Walker', 'Code': 'WL-925'}\n",
      "{'_id': ObjectId('64a20f1deca521ebb9382e09'), 'Rarity': 'Common', 'Type': 'Jogger', 'Code': 'valor2'}\n",
      "{'_id': ObjectId('64a20f1deca521ebb9382e0a'), 'Rarity': 'Common', 'Type': 'Runner', 'Code': 'valor3'}\n",
      "{'_id': ObjectId('64a20f1deca521ebb9382e0b'), 'Rarity': 'Common', 'Type': 'Trainer', 'Code': 'C-T-946'}\n",
      "{'_id': ObjectId('64a20f1deca521ebb9382e0c'), 'Rarity': 'Uncommon', 'Type': 'Walker', 'Code': 'WEGMT-889'}\n",
      "{'_id': ObjectId('64a20f1deca521ebb9382e0d'), 'Rarity': 'Uncommon', 'Type': 'Walker', 'Code': 'WEG-579'}\n",
      "{'_id': ObjectId('64a20f1deca521ebb9382e0e'), 'Rarity': 'Uncommon', 'Type': 'Walker', 'Code': 'UNC-WL-432'}\n",
      "{'_id': ObjectId('64a20f1deca521ebb9382e0f'), 'Rarity': 'Uncommon', 'Type': 'Walker', 'Code': 'UNC-WEG-168'}\n",
      "{'_id': ObjectId('64a20f1deca521ebb9382e10'), 'Rarity': 'Uncommon', 'Type': 'Walker', 'Code': 'UNCO-WG-2524'}\n",
      "{'_id': ObjectId('64a20f1deca521ebb9382e11'), 'Rarity': 'Uncommon', 'Type': 'Jogger', 'Code': 'UNCJG-ER-269'}\n",
      "{'_id': ObjectId('64a20f1deca521ebb9382e12'), 'Rarity': 'Rare', 'Type': 'Walker', 'Code': 'RARE-WL-1041'}\n",
      "{'_id': ObjectId('64a20f1deca521ebb9382e13'), 'Rarity': 'Rare', 'Type': 'Jogger', 'Code': 'RAREMHTE-020'}\n",
      "{'_id': ObjectId('64a20f1deca521ebb9382e14'), 'Rarity': 'Rare', 'Type': 'Runner', 'Code': 'valor3'}\n",
      "{'_id': ObjectId('64a20f1deca521ebb9382e15'), 'Rarity': 'Rare', 'Type': 'Trainer', 'Code': 'valor4'}\n",
      "{'_id': ObjectId('64a20f1deca521ebb9382e16'), 'Rarity': 'Epic', 'Type': 'Walker', 'Code': 'WL-925'}\n",
      "{'_id': ObjectId('64a20f1deca521ebb9382e17'), 'Rarity': 'Epic', 'Type': 'Jogger', 'Code': 'valor2'}\n",
      "{'_id': ObjectId('64a20f1deca521ebb9382e18'), 'Rarity': 'Epic', 'Type': 'Runner', 'Code': 'valor3'}\n",
      "{'_id': ObjectId('64a20f1deca521ebb9382e19'), 'Rarity': 'Epic', 'Type': 'Trainer', 'Code': 'valor4'}\n"
     ]
    }
   ],
   "source": [
    "test = db.sneakers.find()\n",
    "\n",
    "for document in test:\n",
    "    print(document)"
   ]
  },
  {
   "cell_type": "code",
   "execution_count": 28,
   "id": "c7c17ad3",
   "metadata": {},
   "outputs": [],
   "source": [
    "data_filtrada = data[data['ZAPA'] == 'WEGMT-889']\n",
    "\n"
   ]
  },
  {
   "cell_type": "code",
   "execution_count": 33,
   "id": "80c12fa3",
   "metadata": {},
   "outputs": [
    {
     "data": {
      "text/plain": [
       "<pymongo.results.InsertManyResult at 0x7fa947d12a60>"
      ]
     },
     "execution_count": 33,
     "metadata": {},
     "output_type": "execute_result"
    }
   ],
   "source": [
    "# Conexión a la base de datos\n",
    "Stepnosql = MongoClient()\n",
    "\n",
    "# Obtén el DataFrame filtrado\n",
    "data_filtrada = data[data['ZAPA'] == 'WEGMT-889']\n",
    "\n",
    "# Convierte el DataFrame en una lista de documentos\n",
    "documentos = data_filtrada.to_dict(orient='records')\n",
    "\n",
    "# Inserta los documentos en la colección \"clientes\"\n",
    "collection = db['DBSJM']\n",
    "collection.insert_many(documentos)\n"
   ]
  },
  {
   "cell_type": "code",
   "execution_count": null,
   "id": "4f6712ca",
   "metadata": {},
   "outputs": [],
   "source": []
  },
  {
   "cell_type": "code",
   "execution_count": null,
   "id": "16778b63",
   "metadata": {},
   "outputs": [],
   "source": []
  },
  {
   "cell_type": "code",
   "execution_count": null,
   "id": "55133657",
   "metadata": {},
   "outputs": [],
   "source": []
  },
  {
   "cell_type": "code",
   "execution_count": null,
   "id": "331f9214",
   "metadata": {},
   "outputs": [],
   "source": []
  },
  {
   "cell_type": "code",
   "execution_count": null,
   "id": "52a261e9",
   "metadata": {},
   "outputs": [],
   "source": []
  },
  {
   "cell_type": "code",
   "execution_count": null,
   "id": "7bebdcfd",
   "metadata": {},
   "outputs": [],
   "source": []
  },
  {
   "cell_type": "code",
   "execution_count": null,
   "id": "1446841b",
   "metadata": {},
   "outputs": [],
   "source": []
  },
  {
   "cell_type": "code",
   "execution_count": null,
   "id": "a5d5db44",
   "metadata": {},
   "outputs": [],
   "source": []
  },
  {
   "cell_type": "code",
   "execution_count": null,
   "id": "ea0d424e",
   "metadata": {},
   "outputs": [],
   "source": []
  },
  {
   "cell_type": "code",
   "execution_count": null,
   "id": "595508b0",
   "metadata": {},
   "outputs": [],
   "source": []
  },
  {
   "cell_type": "code",
   "execution_count": null,
   "id": "16d8e774",
   "metadata": {},
   "outputs": [],
   "source": []
  },
  {
   "cell_type": "code",
   "execution_count": null,
   "id": "40ff2388",
   "metadata": {},
   "outputs": [],
   "source": []
  },
  {
   "cell_type": "code",
   "execution_count": null,
   "id": "eb57bddd",
   "metadata": {},
   "outputs": [],
   "source": []
  },
  {
   "cell_type": "code",
   "execution_count": null,
   "id": "8a2e3019",
   "metadata": {},
   "outputs": [],
   "source": []
  },
  {
   "cell_type": "code",
   "execution_count": null,
   "id": "1effc3f8",
   "metadata": {},
   "outputs": [],
   "source": []
  },
  {
   "cell_type": "code",
   "execution_count": null,
   "id": "e12ec7ed",
   "metadata": {},
   "outputs": [],
   "source": []
  },
  {
   "cell_type": "code",
   "execution_count": null,
   "id": "664249e2",
   "metadata": {},
   "outputs": [],
   "source": []
  },
  {
   "cell_type": "code",
   "execution_count": null,
   "id": "8d3609d1",
   "metadata": {},
   "outputs": [],
   "source": []
  },
  {
   "cell_type": "code",
   "execution_count": null,
   "id": "069771b2",
   "metadata": {},
   "outputs": [],
   "source": []
  },
  {
   "cell_type": "code",
   "execution_count": null,
   "id": "1aa9c4db",
   "metadata": {},
   "outputs": [],
   "source": []
  },
  {
   "cell_type": "code",
   "execution_count": null,
   "id": "0cb51256",
   "metadata": {},
   "outputs": [],
   "source": []
  },
  {
   "cell_type": "code",
   "execution_count": null,
   "id": "49c9d392",
   "metadata": {},
   "outputs": [],
   "source": []
  },
  {
   "cell_type": "code",
   "execution_count": null,
   "id": "65f8d446",
   "metadata": {},
   "outputs": [],
   "source": []
  }
 ],
 "metadata": {
  "kernelspec": {
   "display_name": "Python 3 (ipykernel)",
   "language": "python",
   "name": "python3"
  },
  "language_info": {
   "codemirror_mode": {
    "name": "ipython",
    "version": 3
   },
   "file_extension": ".py",
   "mimetype": "text/x-python",
   "name": "python",
   "nbconvert_exporter": "python",
   "pygments_lexer": "ipython3",
   "version": "3.9.13"
  }
 },
 "nbformat": 4,
 "nbformat_minor": 5
}
